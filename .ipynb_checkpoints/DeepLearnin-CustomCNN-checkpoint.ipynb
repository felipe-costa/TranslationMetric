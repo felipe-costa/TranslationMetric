{
 "cells": [
  {
   "cell_type": "code",
   "execution_count": 1,
   "metadata": {},
   "outputs": [],
   "source": [
    "import os\n",
    "import keras\n",
    "from keras import layers,models,optimizers, applications\n",
    "from keras.preprocessing.image import ImageDataGenerator\n",
    "from sklearn.model_selection import train_test_split\n",
    "import pandas as pd\n",
    "import matplotlib.pyplot as plt\n",
    "import time\n",
    "import shutil\n",
    "import pickle\n",
    "import math"
   ]
  },
  {
   "cell_type": "markdown",
   "metadata": {},
   "source": [
    "# Download dataset\n",
    "[Download](https://liveeduisegiunl-my.sharepoint.com/:u:/g/personal/m20200597_novaims_unl_pt/EWfJRtW0BRRNoOmYzb6FviQB3_HP_N-rsnPcxm4J7fxEBQ?e=8Mh1xt)\n",
    "\n",
    "Download file and unzip in the base_dir directory."
   ]
  },
  {
   "cell_type": "code",
   "execution_count": 2,
   "metadata": {},
   "outputs": [
    {
     "name": "stdout",
     "output_type": "stream",
     "text": [
      "Num GPUs Available:  1\n"
     ]
    }
   ],
   "source": [
    "import tensorflow as tf\n",
    "print(\"Num GPUs Available: \", len(tf.config.list_physical_devices('GPU')))"
   ]
  },
  {
   "cell_type": "code",
   "execution_count": 3,
   "metadata": {},
   "outputs": [],
   "source": [
    "TrainSamplePercentage = 70\n",
    "RandomSeed = 42\n",
    "base_dir = \"C:\\\\Users\\\\flopes\\\\Desktop\\\\CovidChestXRay\" # Change to personal folder"
   ]
  },
  {
   "cell_type": "markdown",
   "metadata": {},
   "source": [
    "# Organize Images"
   ]
  },
  {
   "cell_type": "code",
   "execution_count": 4,
   "metadata": {},
   "outputs": [],
   "source": [
    "ImageBank = \"ImageBank\""
   ]
  },
  {
   "cell_type": "code",
   "execution_count": 5,
   "metadata": {},
   "outputs": [],
   "source": [
    "ImageBankPath = os.path.join(base_dir, ImageBank)"
   ]
  },
  {
   "cell_type": "code",
   "execution_count": 6,
   "metadata": {},
   "outputs": [],
   "source": [
    "def create_dir(dir):\n",
    "    if os.path.exists(dir):\n",
    "        shutil.rmtree(dir)\n",
    "    os.makedirs(dir)"
   ]
  },
  {
   "cell_type": "code",
   "execution_count": 7,
   "metadata": {},
   "outputs": [
    {
     "name": "stdout",
     "output_type": "stream",
     "text": [
      "COVID - Train Sample Size : 2946\n",
      "NO COVID - Train Sample Size : 12554\n"
     ]
    }
   ],
   "source": [
    "covid_images_path = os.path.join(ImageBankPath, 'COVID')\n",
    "noncovid_images_path = os.path.join(ImageBankPath, 'NOCOVID')\n",
    "\n",
    "len_covid = int(len(os.listdir(covid_images_path)) * TrainSamplePercentage / 100)\n",
    "len_no_covid = int(len(os.listdir(noncovid_images_path)) * TrainSamplePercentage / 100)\n",
    "\n",
    "print(f\"COVID - Train Sample Size : {len_covid}\")\n",
    "print(f\"NO COVID - Train Sample Size : {len_no_covid}\")"
   ]
  },
  {
   "cell_type": "code",
   "execution_count": 8,
   "metadata": {},
   "outputs": [],
   "source": [
    "train_path =  os.path.join(base_dir, 'train')\n",
    "validation_path = os.path.join(base_dir, 'validation')"
   ]
  },
  {
   "cell_type": "code",
   "execution_count": 9,
   "metadata": {},
   "outputs": [],
   "source": [
    "def CreateTrainAndVal(source_COVID, source_NOCOVID,dest_train,dest_val,TrainSamplePercentage, RandomSeed):\n",
    "    create_dir(dest_train)\n",
    "    create_dir(dest_val)\n",
    "    \n",
    "    # Create class folder in train\n",
    "    covid_train_path =  os.path.join(dest_train, 'COVID')\n",
    "    create_dir(covid_train_path)\n",
    "    no_covid_train_path = os.path.join(dest_train, 'NOCOVID')\n",
    "    create_dir(no_covid_train_path)\n",
    "    \n",
    "    # Create class folder in val\n",
    "    covid_val_path =  os.path.join(dest_val, 'COVID')\n",
    "    create_dir(covid_val_path)\n",
    "    no_covid_val_path = os.path.join(dest_val, 'NOCOVID')\n",
    "    create_dir(no_covid_val_path)\n",
    "    \n",
    "    \n",
    "    ImageSplit = train_test_split(os.listdir(source_COVID), test_size=(100-TrainSamplePercentage)/100.0, random_state=RandomSeed)\n",
    "    \n",
    "    for image in ImageSplit[0]: # train\n",
    "        src = os.path.join(source_COVID, image)\n",
    "        dest = os.path.join(covid_train_path, image)\n",
    "        shutil.copyfile(src, dest)\n",
    "        \n",
    "    for image in ImageSplit[1]: # val\n",
    "        src = os.path.join(source_COVID, image)\n",
    "        dest = os.path.join(covid_val_path, image)\n",
    "        shutil.copyfile(src, dest)\n",
    "\n",
    "        \n",
    "    ImageSplit = train_test_split(os.listdir(source_NOCOVID), test_size=(100-TrainSamplePercentage)/100.0, random_state=RandomSeed)\n",
    "    \n",
    "    for image in ImageSplit[0]: # train\n",
    "        src = os.path.join(source_NOCOVID, image)\n",
    "        dest = os.path.join(no_covid_train_path, image)\n",
    "        shutil.copyfile(src, dest)\n",
    "        \n",
    "    for image in ImageSplit[1]: # val\n",
    "        src = os.path.join(source_NOCOVID, image)\n",
    "        dest = os.path.join(no_covid_val_path, image)\n",
    "        shutil.copyfile(src, dest)"
   ]
  },
  {
   "cell_type": "code",
   "execution_count": 10,
   "metadata": {},
   "outputs": [],
   "source": [
    "CreateTrainAndVal(covid_images_path, \n",
    "                  noncovid_images_path,\n",
    "                  train_path,\n",
    "                  validation_path,\n",
    "                  TrainSamplePercentage, \n",
    "                  RandomSeed)"
   ]
  },
  {
   "cell_type": "markdown",
   "metadata": {},
   "source": [
    "# Run Custom Model"
   ]
  },
  {
   "cell_type": "code",
   "execution_count": 11,
   "metadata": {},
   "outputs": [],
   "source": [
    "# Reset Keras Session\n",
    "def reset_keras(model):\n",
    "    sess = tf.compat.v1.keras.backend.get_session()\n",
    "    tf.compat.v1.keras.backend.clear_session()\n",
    "    sess.close()\n",
    "    sess = tf.compat.v1.keras.backend.get_session()\n",
    "\n",
    "    try:\n",
    "        del model # this is from global space - change this as you need\n",
    "    except:\n",
    "        pass\n",
    "\n",
    "    # use the same config as you used to create the session\n",
    "    config = tf.compat.v1.ConfigProto()\n",
    "    config.gpu_options.per_process_gpu_memory_fraction = 1\n",
    "    config.gpu_options.visible_device_list = \"0\"\n",
    "    tf.compat.v1.keras.backend.set_session(tf.compat.v1.Session(config=config))"
   ]
  },
  {
   "cell_type": "code",
   "execution_count": 12,
   "metadata": {},
   "outputs": [],
   "source": [
    "def run_model(parameters):\n",
    "    model = models.Sequential()\n",
    "    model.add(layers.Conv2D(32,parameters['filter'],activation=parameters['activation']\n",
    "                            , input_shape=parameters['input_shape'],padding='same'))\n",
    "    model.add(layers.MaxPooling2D((2,2)))\n",
    "    model.add(layers.Conv2D(64,parameters['filter'],activation=parameters['activation'],padding='same'))\n",
    "    model.add(layers.MaxPooling2D((2,2), padding='same'))\n",
    "    model.add(layers.Conv2D(128,parameters['filter'],activation=parameters['activation'], padding='same'))\n",
    "    model.add(layers.MaxPooling2D((2,2), padding='same'))\n",
    "    model.add(layers.Conv2D(128,parameters['filter'],activation=parameters['activation'], padding='same'))\n",
    "    model.add(layers.MaxPooling2D((2,2), padding='same'))\n",
    "    \n",
    "    if parameters['layers_to_add'] > 0:\n",
    "        for i in range(parameters['layers_to_add']):\n",
    "            model.add(layers.Conv2D(128,parameters['filter'],activation=parameters['activation'], padding='same'))\n",
    "            model.add(layers.MaxPooling2D((2,2), padding='same'))\n",
    "    \n",
    "    model.add(layers.Flatten())\n",
    "    model.add(layers.Dropout(0.5))\n",
    "    model.add(layers.Dense(512, activation=parameters['activation']))\n",
    "    model.add(layers.Dense(1, activation=parameters['activation_output']))\n",
    "    \n",
    "    if parameters['optimizer'] == 'RMSprop':\n",
    "        optimizer = optimizers.RMSprop(lr=parameters['learning_rate'])\n",
    "    else:\n",
    "        optimizer =  optimizers.Adam(learning_rate=parameters['learning_rate'])\n",
    "\n",
    "    model.compile(loss=parameters['loss_function'], optimizer=optimizer,metrics=['acc','AUC'])\n",
    "    \n",
    "    train_datagen = ImageDataGenerator(rescale=1./255, rotation_range=40,\n",
    "                                  width_shift_range=0.2,\n",
    "                                  height_shift_range=0.2,\n",
    "                                  shear_range=0.2,\n",
    "                                  zoom_range=0.2,\n",
    "                                  horizontal_flip=True,\n",
    "                                  fill_mode='nearest')\n",
    "    test_datagen = ImageDataGenerator(rescale = 1./255, rotation_range=40,\n",
    "                                  width_shift_range=0.2,\n",
    "                                  height_shift_range=0.2,\n",
    "                                  shear_range=0.2,\n",
    "                                  zoom_range=0.2,\n",
    "                                  horizontal_flip=True,\n",
    "                                  fill_mode='nearest')\n",
    "    \n",
    "    train_generator = train_datagen.flow_from_directory(train_path, target_size=parameters['target_size'],\n",
    "                                                   batch_size=parameters['batch_size'],\n",
    "                                                   class_mode='binary')\n",
    "    \n",
    "    validation_generator = test_datagen.flow_from_directory(validation_path, target_size=parameters['target_size'],\n",
    "                                                   batch_size=parameters['batch_size'],\n",
    "                                                   class_mode='binary')\n",
    "    \n",
    "    start_time = time.time()\n",
    "\n",
    "    step_size_train = train_generator.n//train_generator.batch_size\n",
    "    step_size_val = validation_generator.n//validation_generator.batch_size    \n",
    "    \n",
    "    history = model.fit(train_generator,\n",
    "                      steps_per_epoch = step_size_train,\n",
    "                      validation_data = validation_generator,\n",
    "                      epochs = parameters['epochs'],\n",
    "                      validation_steps = step_size_val\n",
    "                     )\n",
    "    \n",
    "    \n",
    "    final_time = (time.time() - start_time) / 60.0\n",
    "    \n",
    "    return history, final_time"
   ]
  },
  {
   "cell_type": "code",
   "execution_count": 13,
   "metadata": {},
   "outputs": [],
   "source": [
    "parameters = {\n",
    "        'batch_size': 50,\n",
    "        'filter': (3,3),\n",
    "        'activation': 'relu', \n",
    "        'activation_output': 'sigmoid',\n",
    "        'input_shape':(256,256,3), \n",
    "        'loss_function':'binary_crossentropy',\n",
    "        'target_size':(256,256), \n",
    "        'epochs': 40, \n",
    "        'learning_rate': 1e-4, \n",
    "        'comments': 'Change the number of epochs #2', \n",
    "        'optimizer': 'RMSprop', \n",
    "        'layers_to_add': 0\n",
    "    }"
   ]
  },
  {
   "cell_type": "code",
   "execution_count": 14,
   "metadata": {},
   "outputs": [
    {
     "name": "stdout",
     "output_type": "stream",
     "text": [
      "Found 15500 images belonging to 2 classes.\n",
      "Found 6644 images belonging to 2 classes.\n",
      "Epoch 1/40\n",
      "310/310 [==============================] - 290s 910ms/step - loss: 0.4899 - acc: 0.7993 - auc: 0.5790 - val_loss: 0.4520 - val_acc: 0.8108 - val_auc: 0.6985\n",
      "Epoch 2/40\n",
      "310/310 [==============================] - 212s 685ms/step - loss: 0.4558 - acc: 0.8097 - auc: 0.6822 - val_loss: 0.4373 - val_acc: 0.8094 - val_auc: 0.7368\n",
      "Epoch 3/40\n",
      "310/310 [==============================] - 213s 689ms/step - loss: 0.4433 - acc: 0.8071 - auc: 0.7267 - val_loss: 0.4121 - val_acc: 0.8138 - val_auc: 0.7823\n",
      "Epoch 4/40\n",
      "310/310 [==============================] - 214s 691ms/step - loss: 0.4268 - acc: 0.8106 - auc: 0.7611 - val_loss: 0.3892 - val_acc: 0.8159 - val_auc: 0.8188\n",
      "Epoch 5/40\n",
      "310/310 [==============================] - 227s 733ms/step - loss: 0.3955 - acc: 0.8282 - auc: 0.7899 - val_loss: 0.3735 - val_acc: 0.8285 - val_auc: 0.8346\n",
      "Epoch 6/40\n",
      "310/310 [==============================] - 222s 715ms/step - loss: 0.3869 - acc: 0.8284 - auc: 0.8030 - val_loss: 0.3584 - val_acc: 0.8364 - val_auc: 0.8500\n",
      "Epoch 7/40\n",
      "310/310 [==============================] - 223s 719ms/step - loss: 0.3753 - acc: 0.8340 - auc: 0.8248 - val_loss: 0.3954 - val_acc: 0.8471 - val_auc: 0.8662\n",
      "Epoch 8/40\n",
      "310/310 [==============================] - 224s 722ms/step - loss: 0.3731 - acc: 0.8337 - auc: 0.8301 - val_loss: 0.3440 - val_acc: 0.8379 - val_auc: 0.8745\n",
      "Epoch 9/40\n",
      "310/310 [==============================] - 228s 735ms/step - loss: 0.3542 - acc: 0.8481 - auc: 0.8477 - val_loss: 0.3210 - val_acc: 0.8662 - val_auc: 0.8853\n",
      "Epoch 10/40\n",
      "310/310 [==============================] - 224s 724ms/step - loss: 0.3537 - acc: 0.8435 - auc: 0.8542 - val_loss: 0.3440 - val_acc: 0.8485 - val_auc: 0.8845\n",
      "Epoch 11/40\n",
      "310/310 [==============================] - 226s 729ms/step - loss: 0.3506 - acc: 0.8495 - auc: 0.8574 - val_loss: 0.3131 - val_acc: 0.8606 - val_auc: 0.8960\n",
      "Epoch 12/40\n",
      "310/310 [==============================] - 227s 734ms/step - loss: 0.3423 - acc: 0.8528 - auc: 0.8633 - val_loss: 0.3117 - val_acc: 0.8789 - val_auc: 0.9017\n",
      "Epoch 13/40\n",
      "310/310 [==============================] - 233s 751ms/step - loss: 0.3362 - acc: 0.8583 - auc: 0.8698 - val_loss: 0.3110 - val_acc: 0.8780 - val_auc: 0.9029\n",
      "Epoch 14/40\n",
      "310/310 [==============================] - 233s 752ms/step - loss: 0.3201 - acc: 0.8645 - auc: 0.8825 - val_loss: 0.3078 - val_acc: 0.8708 - val_auc: 0.8956\n",
      "Epoch 15/40\n",
      "310/310 [==============================] - 232s 750ms/step - loss: 0.3117 - acc: 0.8637 - auc: 0.8900 - val_loss: 0.3207 - val_acc: 0.8679 - val_auc: 0.9055\n",
      "Epoch 16/40\n",
      "310/310 [==============================] - 233s 753ms/step - loss: 0.3088 - acc: 0.8716 - auc: 0.8923 - val_loss: 0.2826 - val_acc: 0.8908 - val_auc: 0.9144\n",
      "Epoch 17/40\n",
      "310/310 [==============================] - 236s 764ms/step - loss: 0.3156 - acc: 0.8693 - auc: 0.8875 - val_loss: 0.3663 - val_acc: 0.8415 - val_auc: 0.9060\n",
      "Epoch 18/40\n",
      "310/310 [==============================] - 238s 769ms/step - loss: 0.3066 - acc: 0.8748 - auc: 0.8949 - val_loss: 0.2719 - val_acc: 0.8914 - val_auc: 0.9192\n",
      "Epoch 19/40\n",
      "310/310 [==============================] - 242s 779ms/step - loss: 0.2961 - acc: 0.8716 - auc: 0.8982 - val_loss: 0.2965 - val_acc: 0.8885 - val_auc: 0.9260\n",
      "Epoch 20/40\n",
      "310/310 [==============================] - 244s 788ms/step - loss: 0.2948 - acc: 0.8766 - auc: 0.9008 - val_loss: 0.2660 - val_acc: 0.8902 - val_auc: 0.9286\n",
      "Epoch 21/40\n",
      "310/310 [==============================] - 246s 794ms/step - loss: 0.2950 - acc: 0.8731 - auc: 0.9034 - val_loss: 0.2563 - val_acc: 0.8983 - val_auc: 0.9317\n",
      "Epoch 22/40\n",
      "310/310 [==============================] - 247s 798ms/step - loss: 0.2836 - acc: 0.8796 - auc: 0.9087 - val_loss: 0.2559 - val_acc: 0.8952 - val_auc: 0.9327\n",
      "Epoch 23/40\n",
      "310/310 [==============================] - 247s 796ms/step - loss: 0.2893 - acc: 0.8754 - auc: 0.9072 - val_loss: 0.2682 - val_acc: 0.8911 - val_auc: 0.9274\n",
      "Epoch 24/40\n",
      "310/310 [==============================] - 247s 795ms/step - loss: 0.2864 - acc: 0.8844 - auc: 0.9093 - val_loss: 0.2507 - val_acc: 0.8991 - val_auc: 0.9322\n",
      "Epoch 25/40\n",
      "310/310 [==============================] - 248s 800ms/step - loss: 0.2783 - acc: 0.8897 - auc: 0.9159 - val_loss: 0.2701 - val_acc: 0.8929 - val_auc: 0.9289\n",
      "Epoch 26/40\n",
      "310/310 [==============================] - 250s 807ms/step - loss: 0.2837 - acc: 0.8868 - auc: 0.9118 - val_loss: 0.2581 - val_acc: 0.8964 - val_auc: 0.9298\n",
      "Epoch 27/40\n",
      "310/310 [==============================] - 254s 820ms/step - loss: 0.2683 - acc: 0.8858 - auc: 0.9216 - val_loss: 0.2628 - val_acc: 0.8853 - val_auc: 0.9343\n",
      "Epoch 28/40\n",
      "310/310 [==============================] - 253s 817ms/step - loss: 0.2621 - acc: 0.8922 - auc: 0.9229 - val_loss: 0.2485 - val_acc: 0.9105 - val_auc: 0.9413\n",
      "Epoch 29/40\n",
      "310/310 [==============================] - 256s 827ms/step - loss: 0.2634 - acc: 0.8918 - auc: 0.9230 - val_loss: 0.2657 - val_acc: 0.8939 - val_auc: 0.9426\n",
      "Epoch 30/40\n",
      "310/310 [==============================] - 258s 833ms/step - loss: 0.2672 - acc: 0.8911 - auc: 0.9201 - val_loss: 0.2473 - val_acc: 0.9029 - val_auc: 0.9357\n",
      "Epoch 31/40\n",
      "310/310 [==============================] - 253s 816ms/step - loss: 0.2538 - acc: 0.8948 - auc: 0.9286 - val_loss: 0.2189 - val_acc: 0.9164 - val_auc: 0.9518\n",
      "Epoch 32/40\n",
      "310/310 [==============================] - 264s 853ms/step - loss: 0.2581 - acc: 0.8947 - auc: 0.9255 - val_loss: 0.2365 - val_acc: 0.9039 - val_auc: 0.9439\n",
      "Epoch 33/40\n",
      "310/310 [==============================] - 267s 862ms/step - loss: 0.2641 - acc: 0.8925 - auc: 0.9230 - val_loss: 0.2316 - val_acc: 0.9074 - val_auc: 0.9428\n",
      "Epoch 34/40\n",
      "310/310 [==============================] - 273s 880ms/step - loss: 0.2608 - acc: 0.8916 - auc: 0.9250 - val_loss: 0.2212 - val_acc: 0.9174 - val_auc: 0.9484\n",
      "Epoch 35/40\n",
      "310/310 [==============================] - 277s 896ms/step - loss: 0.2512 - acc: 0.8941 - auc: 0.9299 - val_loss: 0.2273 - val_acc: 0.9141 - val_auc: 0.9476\n",
      "Epoch 36/40\n",
      "310/310 [==============================] - 283s 915ms/step - loss: 0.2593 - acc: 0.8979 - auc: 0.9254 - val_loss: 0.2166 - val_acc: 0.9185 - val_auc: 0.9513\n",
      "Epoch 37/40\n",
      "310/310 [==============================] - 286s 924ms/step - loss: 0.2354 - acc: 0.9026 - auc: 0.9394 - val_loss: 0.2197 - val_acc: 0.9174 - val_auc: 0.9521\n",
      "Epoch 38/40\n",
      "310/310 [==============================] - 293s 946ms/step - loss: 0.2373 - acc: 0.9029 - auc: 0.9374 - val_loss: 0.2053 - val_acc: 0.9230 - val_auc: 0.9579\n",
      "Epoch 39/40\n",
      "310/310 [==============================] - 298s 962ms/step - loss: 0.2378 - acc: 0.9052 - auc: 0.9372 - val_loss: 0.2350 - val_acc: 0.9055 - val_auc: 0.9425\n",
      "Epoch 40/40\n",
      "310/310 [==============================] - 298s 963ms/step - loss: 0.2451 - acc: 0.8994 - auc: 0.9337 - val_loss: 0.2054 - val_acc: 0.9212 - val_auc: 0.9600\n"
     ]
    }
   ],
   "source": [
    "CustomResults, CustomDuration = run_model(parameters)"
   ]
  },
  {
   "cell_type": "code",
   "execution_count": 15,
   "metadata": {},
   "outputs": [
    {
     "name": "stdout",
     "output_type": "stream",
     "text": [
      "Training Duration: 165.35519108374913 min\n"
     ]
    }
   ],
   "source": [
    "print(f\"Training Duration: {CustomDuration} min\")\n",
    "\n",
    "with open('CustomHistoryDict.pkl', 'wb') as file_pi:\n",
    "        pickle.dump(CustomResults.history, file_pi)"
   ]
  },
  {
   "cell_type": "code",
   "execution_count": 16,
   "metadata": {},
   "outputs": [],
   "source": [
    "acc = CustomResults.history['acc']\n",
    "val_acc = CustomResults.history['val_acc']\n",
    "auc = CustomResults.history['auc']\n",
    "val_auc = CustomResults.history['val_auc']\n",
    "loss = CustomResults.history['loss']\n",
    "val_loss = CustomResults.history['val_loss']\n",
    "\n",
    "epochs = range(1,len(acc) + 1)"
   ]
  },
  {
   "cell_type": "code",
   "execution_count": 17,
   "metadata": {},
   "outputs": [
    {
     "data": {
      "text/plain": [
       "<matplotlib.legend.Legend at 0x2550f1fbf40>"
      ]
     },
     "execution_count": 17,
     "metadata": {},
     "output_type": "execute_result"
    },
    {
     "data": {
      "image/png": "[encoded data removed]",
      "text/plain": [
       "<Figure size 432x288 with 1 Axes>"
      ]
     },
     "metadata": {
      "needs_background": "light"
     },
     "output_type": "display_data"
    }
   ],
   "source": [
    "plt.plot(epochs,acc,'bo',label='Trainning acc')\n",
    "plt.plot(epochs,val_acc,'b',label='Validation acc')\n",
    "plt.title('Trainning and validation accuracy')\n",
    "plt.legend()"
   ]
  },
  {
   "cell_type": "code",
   "execution_count": 18,
   "metadata": {},
   "outputs": [
    {
     "data": {
      "text/plain": [
       "<matplotlib.legend.Legend at 0x2550f2dbf10>"
      ]
     },
     "execution_count": 18,
     "metadata": {},
     "output_type": "execute_result"
    },
    {
     "data": {
      "image/png": "[encoded data removed]",
      "text/plain": [
       "<Figure size 432x288 with 1 Axes>"
      ]
     },
     "metadata": {
      "needs_background": "light"
     },
     "output_type": "display_data"
    }
   ],
   "source": [
    "plt.plot(epochs,auc,'bo',label='Trainning acc')\n",
    "plt.plot(epochs,val_auc,'b',label='Validation acc')\n",
    "plt.title('Trainning and validation AUC')\n",
    "plt.legend()"
   ]
  },
  {
   "cell_type": "code",
   "execution_count": 19,
   "metadata": {},
   "outputs": [
    {
     "data": {
      "text/plain": [
       "<matplotlib.legend.Legend at 0x2550f360040>"
      ]
     },
     "execution_count": 19,
     "metadata": {},
     "output_type": "execute_result"
    },
    {
     "data": {
      "image/png": "[encoded data removed]",
      "text/plain": [
       "<Figure size 432x288 with 1 Axes>"
      ]
     },
     "metadata": {
      "needs_background": "light"
     },
     "output_type": "display_data"
    }
   ],
   "source": [
    "plt.figure()\n",
    "plt.plot(epochs,loss, 'bo',label='Trainning loss')\n",
    "plt.plot(epochs,val_loss, 'b', label='Validation loss')\n",
    "plt.title('Trainning and validation loss')\n",
    "plt.legend()"
   ]
  }
 ],
 "metadata": {
  "kernelspec": {
   "display_name": "Python 3",
   "language": "python",
   "name": "python3"
  },
  "language_info": {
   "codemirror_mode": {
    "name": "ipython",
    "version": 3
   },
   "file_extension": ".py",
   "mimetype": "text/x-python",
   "name": "python",
   "nbconvert_exporter": "python",
   "pygments_lexer": "ipython3",
   "version": "3.8.5"
  }
 },
 "nbformat": 4,
 "nbformat_minor": 4
}

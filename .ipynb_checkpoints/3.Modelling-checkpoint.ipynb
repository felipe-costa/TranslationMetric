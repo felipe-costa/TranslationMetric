{
 "cells": [
  {
   "cell_type": "code",
   "execution_count": 72,
   "metadata": {},
   "outputs": [],
   "source": [
    "#General imports\n",
    "import pandas as pd\n",
    "import numpy as np\n",
    "import scipy.stats as stats\n",
    "import math\n",
    "import os"
   ]
  },
  {
   "cell_type": "code",
   "execution_count": 11,
   "metadata": {},
   "outputs": [],
   "source": [
    "#Custom files imports\n",
    "import config\n",
    "from feature_extractor import FeatureExtrator"
   ]
  },
  {
   "cell_type": "code",
   "execution_count": 16,
   "metadata": {},
   "outputs": [],
   "source": [
    "from tensorflow import keras\n",
    "import tensorflow as tf\n",
    "from tensorflow.keras import layers\n",
    "from tensorflow.keras.layers.experimental import preprocessing\n",
    "from sklearn.model_selection import train_test_split\n",
    "import torch.nn.functional as F\n",
    "from torch.nn import CosineSimilarity\n",
    "import torch"
   ]
  },
  {
   "cell_type": "code",
   "execution_count": 97,
   "metadata": {},
   "outputs": [],
   "source": [
    "results = pd.DataFrame(columns=['Model','Method','Score'])\n",
    "dir_list = next(os.walk(config.features_data_dir))[1]"
   ]
  },
  {
   "cell_type": "code",
   "execution_count": 5,
   "metadata": {},
   "outputs": [],
   "source": [
    "df_source = pd.DataFrame()\n",
    "features = []\n",
    "for d in dir_list:\n",
    "    csv_path = config.features_data_dir + d + \"\\scores.csv\"\n",
    "    df = pd.read_csv(csv_path)\n",
    "    df['language'] = d\n",
    "    df_source = df_source.append(df)\n",
    "    tensor = torch.load(config.features_data_dir + d + \"\\\\tensor.pt\")\n",
    "    features.append(tensor)\n",
    "features = tf.concat(features,0)\n",
    "    "
   ]
  },
  {
   "cell_type": "code",
   "execution_count": 6,
   "metadata": {},
   "outputs": [
    {
     "data": {
      "text/html": [
       "<div>\n",
       "<style scoped>\n",
       "    .dataframe tbody tr th:only-of-type {\n",
       "        vertical-align: middle;\n",
       "    }\n",
       "\n",
       "    .dataframe tbody tr th {\n",
       "        vertical-align: top;\n",
       "    }\n",
       "\n",
       "    .dataframe thead th {\n",
       "        text-align: right;\n",
       "    }\n",
       "</style>\n",
       "<table border=\"1\" class=\"dataframe\">\n",
       "  <thead>\n",
       "    <tr style=\"text-align: right;\">\n",
       "      <th></th>\n",
       "      <th>Unnamed: 0</th>\n",
       "      <th>source</th>\n",
       "      <th>reference</th>\n",
       "      <th>translation</th>\n",
       "      <th>z-score</th>\n",
       "      <th>avg-score</th>\n",
       "      <th>annotators</th>\n",
       "      <th>language</th>\n",
       "    </tr>\n",
       "  </thead>\n",
       "  <tbody>\n",
       "    <tr>\n",
       "      <th>0</th>\n",
       "      <td>0</td>\n",
       "      <td>Uchopíte pak zbraň mezi své předloktí a rameno...</td>\n",
       "      <td>you will then grab the weapon between your for...</td>\n",
       "      <td>you then grasp the gun between your forearm an...</td>\n",
       "      <td>-0.675383</td>\n",
       "      <td>60.000000</td>\n",
       "      <td>3</td>\n",
       "      <td>cs-en</td>\n",
       "    </tr>\n",
       "    <tr>\n",
       "      <th>1</th>\n",
       "      <td>1</td>\n",
       "      <td>Ale je-li New York změna, pak je to také znovu...</td>\n",
       "      <td>but if new york is changed  then it s also a r...</td>\n",
       "      <td>but if new york is change  it is also reinvent...</td>\n",
       "      <td>-0.829403</td>\n",
       "      <td>44.000000</td>\n",
       "      <td>2</td>\n",
       "      <td>cs-en</td>\n",
       "    </tr>\n",
       "    <tr>\n",
       "      <th>2</th>\n",
       "      <td>2</td>\n",
       "      <td>Dlouho a intenzivně jsem během léta přemýšlel,...</td>\n",
       "      <td>i have been thinking over and over again over ...</td>\n",
       "      <td>i have thought long and hard over the course o...</td>\n",
       "      <td>0.803185</td>\n",
       "      <td>96.500000</td>\n",
       "      <td>2</td>\n",
       "      <td>cs-en</td>\n",
       "    </tr>\n",
       "    <tr>\n",
       "      <th>3</th>\n",
       "      <td>3</td>\n",
       "      <td>Najdou si jiný způsob, jak někde podvádět.</td>\n",
       "      <td>they find another way to cheat somewhere</td>\n",
       "      <td>they will find another way how to defraud others</td>\n",
       "      <td>0.563149</td>\n",
       "      <td>90.500000</td>\n",
       "      <td>2</td>\n",
       "      <td>cs-en</td>\n",
       "    </tr>\n",
       "    <tr>\n",
       "      <th>4</th>\n",
       "      <td>4</td>\n",
       "      <td>Zpráva o výměně v čele prezidentovy administra...</td>\n",
       "      <td>the report on the replacement of the president...</td>\n",
       "      <td>the news of the replacement at the top of the ...</td>\n",
       "      <td>0.021549</td>\n",
       "      <td>74.666667</td>\n",
       "      <td>3</td>\n",
       "      <td>cs-en</td>\n",
       "    </tr>\n",
       "  </tbody>\n",
       "</table>\n",
       "</div>"
      ],
      "text/plain": [
       "   Unnamed: 0                                             source  \\\n",
       "0           0  Uchopíte pak zbraň mezi své předloktí a rameno...   \n",
       "1           1  Ale je-li New York změna, pak je to také znovu...   \n",
       "2           2  Dlouho a intenzivně jsem během léta přemýšlel,...   \n",
       "3           3         Najdou si jiný způsob, jak někde podvádět.   \n",
       "4           4  Zpráva o výměně v čele prezidentovy administra...   \n",
       "\n",
       "                                           reference  \\\n",
       "0  you will then grab the weapon between your for...   \n",
       "1  but if new york is changed  then it s also a r...   \n",
       "2  i have been thinking over and over again over ...   \n",
       "3          they find another way to cheat somewhere    \n",
       "4  the report on the replacement of the president...   \n",
       "\n",
       "                                         translation   z-score  avg-score  \\\n",
       "0  you then grasp the gun between your forearm an... -0.675383  60.000000   \n",
       "1  but if new york is change  it is also reinvent... -0.829403  44.000000   \n",
       "2  i have thought long and hard over the course o...  0.803185  96.500000   \n",
       "3  they will find another way how to defraud others   0.563149  90.500000   \n",
       "4  the news of the replacement at the top of the ...  0.021549  74.666667   \n",
       "\n",
       "   annotators language  \n",
       "0           3    cs-en  \n",
       "1           2    cs-en  \n",
       "2           2    cs-en  \n",
       "3           2    cs-en  \n",
       "4           3    cs-en  "
      ]
     },
     "execution_count": 6,
     "metadata": {},
     "output_type": "execute_result"
    }
   ],
   "source": [
    "df_source.head()"
   ]
  },
  {
   "cell_type": "code",
   "execution_count": 73,
   "metadata": {},
   "outputs": [],
   "source": [
    "sims = []\n",
    "cos =CosineSimilarity(dim=0)\n",
    "for f in features:\n",
    "    t1,t2 = tf.split(f, num_or_size_splits=2, axis=0)\n",
    "    t1 = F.normalize(torch.Tensor(np.array(t1)), p=2,dim=0)\n",
    "    t2 = F.normalize(torch.Tensor(np.array(t2)), p=2,dim=0)\n",
    "    sims.append(cos(t1,t2))"
   ]
  },
  {
   "cell_type": "code",
   "execution_count": 75,
   "metadata": {},
   "outputs": [
    {
     "data": {
      "text/html": [
       "<div>\n",
       "<style scoped>\n",
       "    .dataframe tbody tr th:only-of-type {\n",
       "        vertical-align: middle;\n",
       "    }\n",
       "\n",
       "    .dataframe tbody tr th {\n",
       "        vertical-align: top;\n",
       "    }\n",
       "\n",
       "    .dataframe thead th {\n",
       "        text-align: right;\n",
       "    }\n",
       "</style>\n",
       "<table border=\"1\" class=\"dataframe\">\n",
       "  <thead>\n",
       "    <tr style=\"text-align: right;\">\n",
       "      <th></th>\n",
       "      <th>Unnamed: 0</th>\n",
       "      <th>source</th>\n",
       "      <th>reference</th>\n",
       "      <th>translation</th>\n",
       "      <th>z-score</th>\n",
       "      <th>avg-score</th>\n",
       "      <th>annotators</th>\n",
       "      <th>language</th>\n",
       "      <th>similarity</th>\n",
       "      <th>baseline_score</th>\n",
       "      <th>dnn_score</th>\n",
       "    </tr>\n",
       "  </thead>\n",
       "  <tbody>\n",
       "    <tr>\n",
       "      <th>0</th>\n",
       "      <td>0</td>\n",
       "      <td>Uchopíte pak zbraň mezi své předloktí a rameno...</td>\n",
       "      <td>you will then grab the weapon between your for...</td>\n",
       "      <td>you then grasp the gun between your forearm an...</td>\n",
       "      <td>-0.675383</td>\n",
       "      <td>60.000000</td>\n",
       "      <td>3</td>\n",
       "      <td>cs-en</td>\n",
       "      <td>0.961775</td>\n",
       "      <td>0.961775</td>\n",
       "      <td>62.912018</td>\n",
       "    </tr>\n",
       "    <tr>\n",
       "      <th>1</th>\n",
       "      <td>1</td>\n",
       "      <td>Ale je-li New York změna, pak je to také znovu...</td>\n",
       "      <td>but if new york is changed  then it s also a r...</td>\n",
       "      <td>but if new york is change  it is also reinvent...</td>\n",
       "      <td>-0.829403</td>\n",
       "      <td>44.000000</td>\n",
       "      <td>2</td>\n",
       "      <td>cs-en</td>\n",
       "      <td>0.963354</td>\n",
       "      <td>0.963355</td>\n",
       "      <td>65.189987</td>\n",
       "    </tr>\n",
       "    <tr>\n",
       "      <th>2</th>\n",
       "      <td>2</td>\n",
       "      <td>Dlouho a intenzivně jsem během léta přemýšlel,...</td>\n",
       "      <td>i have been thinking over and over again over ...</td>\n",
       "      <td>i have thought long and hard over the course o...</td>\n",
       "      <td>0.803185</td>\n",
       "      <td>96.500000</td>\n",
       "      <td>2</td>\n",
       "      <td>cs-en</td>\n",
       "      <td>0.848682</td>\n",
       "      <td>0.848681</td>\n",
       "      <td>109.193130</td>\n",
       "    </tr>\n",
       "    <tr>\n",
       "      <th>3</th>\n",
       "      <td>3</td>\n",
       "      <td>Najdou si jiný způsob, jak někde podvádět.</td>\n",
       "      <td>they find another way to cheat somewhere</td>\n",
       "      <td>they will find another way how to defraud others</td>\n",
       "      <td>0.563149</td>\n",
       "      <td>90.500000</td>\n",
       "      <td>2</td>\n",
       "      <td>cs-en</td>\n",
       "      <td>0.860908</td>\n",
       "      <td>0.860908</td>\n",
       "      <td>91.115807</td>\n",
       "    </tr>\n",
       "    <tr>\n",
       "      <th>4</th>\n",
       "      <td>4</td>\n",
       "      <td>Zpráva o výměně v čele prezidentovy administra...</td>\n",
       "      <td>the report on the replacement of the president...</td>\n",
       "      <td>the news of the replacement at the top of the ...</td>\n",
       "      <td>0.021549</td>\n",
       "      <td>74.666667</td>\n",
       "      <td>3</td>\n",
       "      <td>cs-en</td>\n",
       "      <td>0.822409</td>\n",
       "      <td>0.822410</td>\n",
       "      <td>77.781845</td>\n",
       "    </tr>\n",
       "  </tbody>\n",
       "</table>\n",
       "</div>"
      ],
      "text/plain": [
       "   Unnamed: 0                                             source  \\\n",
       "0           0  Uchopíte pak zbraň mezi své předloktí a rameno...   \n",
       "1           1  Ale je-li New York změna, pak je to také znovu...   \n",
       "2           2  Dlouho a intenzivně jsem během léta přemýšlel,...   \n",
       "3           3         Najdou si jiný způsob, jak někde podvádět.   \n",
       "4           4  Zpráva o výměně v čele prezidentovy administra...   \n",
       "\n",
       "                                           reference  \\\n",
       "0  you will then grab the weapon between your for...   \n",
       "1  but if new york is changed  then it s also a r...   \n",
       "2  i have been thinking over and over again over ...   \n",
       "3          they find another way to cheat somewhere    \n",
       "4  the report on the replacement of the president...   \n",
       "\n",
       "                                         translation   z-score  avg-score  \\\n",
       "0  you then grasp the gun between your forearm an... -0.675383  60.000000   \n",
       "1  but if new york is change  it is also reinvent... -0.829403  44.000000   \n",
       "2  i have thought long and hard over the course o...  0.803185  96.500000   \n",
       "3  they will find another way how to defraud others   0.563149  90.500000   \n",
       "4  the news of the replacement at the top of the ...  0.021549  74.666667   \n",
       "\n",
       "   annotators language  similarity  baseline_score   dnn_score  \n",
       "0           3    cs-en    0.961775        0.961775   62.912018  \n",
       "1           2    cs-en    0.963354        0.963355   65.189987  \n",
       "2           2    cs-en    0.848682        0.848681  109.193130  \n",
       "3           2    cs-en    0.860908        0.860908   91.115807  \n",
       "4           3    cs-en    0.822409        0.822410   77.781845  "
      ]
     },
     "execution_count": 75,
     "metadata": {},
     "output_type": "execute_result"
    }
   ],
   "source": [
    "df_source['baseline_score'] = np.array(sims)\n",
    "df_source.head(5)"
   ]
  },
  {
   "cell_type": "code",
   "execution_count": 98,
   "metadata": {},
   "outputs": [],
   "source": [
    "corr = df_source[['avg-score','baseline_score']].corr()\n",
    "results = results.append({'Model':'baseline','Method': 'Pearson','Score': corr[corr.index == 'avg-score']['baseline_score'][0]},ignore_index=True)"
   ]
  },
  {
   "cell_type": "code",
   "execution_count": 99,
   "metadata": {},
   "outputs": [],
   "source": [
    "corr = df_source[['avg-score','baseline_score','baseline-zscore']].corr(method='kendall')\n",
    "results = results.append({'Model':'baseline','Method': 'Kendall Tau','Score': corr[corr.index == 'avg-score']['baseline_score'][0]},ignore_index=True)"
   ]
  },
  {
   "cell_type": "code",
   "execution_count": 55,
   "metadata": {},
   "outputs": [],
   "source": [
    "X = np.array(features)\n",
    "y = df_source['avg-score']\n",
    "X_train, X_test, y_train, y_test = train_test_split(\n",
    "    X, y, test_size=0.33, random_state=42)"
   ]
  },
  {
   "cell_type": "code",
   "execution_count": 56,
   "metadata": {},
   "outputs": [],
   "source": [
    "def build_and_compile_model(norm):\n",
    "    model = keras.Sequential([\n",
    "      norm,\n",
    "      layers.Dense(128, activation='relu'),\n",
    "      layers.Dense(64, activation='relu'),\n",
    "      layers.Dense(64, activation='relu'),\n",
    "      layers.Dense(1)\n",
    "      ])\n",
    "\n",
    "    model.compile(loss='mean_absolute_error',\n",
    "                optimizer=tf.keras.optimizers.Adam(0.001))\n",
    "    return model"
   ]
  },
  {
   "cell_type": "code",
   "execution_count": 57,
   "metadata": {},
   "outputs": [],
   "source": [
    "normalizer = preprocessing.Normalization()\n",
    "normalizer.adapt(np.array(X_train))"
   ]
  },
  {
   "cell_type": "code",
   "execution_count": 58,
   "metadata": {},
   "outputs": [
    {
     "name": "stdout",
     "output_type": "stream",
     "text": [
      "[<tf.Tensor 'Placeholder:0' shape=(None, 1536) dtype=float32>]\n",
      "[<tf.Tensor 'Placeholder:0' shape=(None, 128) dtype=float32>]\n",
      "[<tf.Tensor 'Placeholder:0' shape=(None, 64) dtype=float32>]\n",
      "[<tf.Tensor 'Placeholder:0' shape=(None, 64) dtype=float32>]\n"
     ]
    }
   ],
   "source": [
    "dnn_model = build_and_compile_model(normalizer)"
   ]
  },
  {
   "cell_type": "code",
   "execution_count": 59,
   "metadata": {},
   "outputs": [
    {
     "name": "stdout",
     "output_type": "stream",
     "text": [
      "Model: \"sequential\"\n",
      "_________________________________________________________________\n",
      "Layer (type)                 Output Shape              Param #   \n",
      "=================================================================\n",
      "normalization_1 (Normalizati (None, 1536)              3073      \n",
      "_________________________________________________________________\n",
      "dense (Dense)                (None, 128)               196736    \n",
      "_________________________________________________________________\n",
      "dense_1 (Dense)              (None, 64)                8256      \n",
      "_________________________________________________________________\n",
      "dense_2 (Dense)              (None, 64)                4160      \n",
      "_________________________________________________________________\n",
      "dense_3 (Dense)              (None, 1)                 65        \n",
      "=================================================================\n",
      "Total params: 212,290\n",
      "Trainable params: 209,217\n",
      "Non-trainable params: 3,073\n",
      "_________________________________________________________________\n"
     ]
    }
   ],
   "source": [
    "dnn_model.summary()"
   ]
  },
  {
   "cell_type": "code",
   "execution_count": 60,
   "metadata": {},
   "outputs": [
    {
     "name": "stdout",
     "output_type": "stream",
     "text": [
      "[<tf.Tensor 'sequential/normalization_1/truediv:0' shape=(None, 1536) dtype=float32>]\n",
      "[<tf.Tensor 'sequential/dense/Relu:0' shape=(None, 128) dtype=float32>]\n",
      "[<tf.Tensor 'sequential/dense_1/Relu:0' shape=(None, 64) dtype=float32>]\n",
      "[<tf.Tensor 'sequential/dense_2/Relu:0' shape=(None, 64) dtype=float32>]\n",
      "[<tf.Tensor 'sequential/normalization_1/truediv:0' shape=(None, 1536) dtype=float32>]\n",
      "[<tf.Tensor 'sequential/dense/Relu:0' shape=(None, 128) dtype=float32>]\n",
      "[<tf.Tensor 'sequential/dense_1/Relu:0' shape=(None, 64) dtype=float32>]\n",
      "[<tf.Tensor 'sequential/dense_2/Relu:0' shape=(None, 64) dtype=float32>]\n",
      "[<tf.Tensor 'sequential/normalization_1/truediv:0' shape=(None, 1536) dtype=float32>]\n",
      "[<tf.Tensor 'sequential/dense/Relu:0' shape=(None, 128) dtype=float32>]\n",
      "[<tf.Tensor 'sequential/dense_1/Relu:0' shape=(None, 64) dtype=float32>]\n",
      "[<tf.Tensor 'sequential/dense_2/Relu:0' shape=(None, 64) dtype=float32>]\n",
      "Wall time: 5min 21s\n"
     ]
    }
   ],
   "source": [
    "%%time\n",
    "history = dnn_model.fit(\n",
    "   X_train, y_train,\n",
    "    validation_split=0.2,\n",
    "    verbose=0, epochs=100)"
   ]
  },
  {
   "cell_type": "code",
   "execution_count": 63,
   "metadata": {},
   "outputs": [],
   "source": [
    "import matplotlib.pyplot as plt\n",
    "from matplotlib.pyplot import figure\n",
    "def plot_loss(history):\n",
    "    figure(figsize=(8, 6), dpi=80)\n",
    "    plt.plot(history.history['loss'], label='loss')\n",
    "    plt.plot(history.history['val_loss'], label='val_loss')\n",
    "    plt.ylim([0, 50])\n",
    "    plt.xlabel('Epoch')\n",
    "    plt.ylabel('Loss')\n",
    "    plt.legend()\n",
    "    plt.grid(True)"
   ]
  },
  {
   "cell_type": "code",
   "execution_count": 64,
   "metadata": {},
   "outputs": [
    {
     "data": {
      "image/png": "[encoded data removed]",
      "text/plain": [
       "<Figure size 640x480 with 1 Axes>"
      ]
     },
     "metadata": {
      "needs_background": "light"
     },
     "output_type": "display_data"
    }
   ],
   "source": [
    "plot_loss(history)"
   ]
  },
  {
   "cell_type": "code",
   "execution_count": 65,
   "metadata": {},
   "outputs": [
    {
     "name": "stdout",
     "output_type": "stream",
     "text": [
      "967/967 [==============================] - 2s 2ms/step - loss: 21.7201\n"
     ]
    },
    {
     "data": {
      "text/plain": [
       "21.72014045715332"
      ]
     },
     "execution_count": 65,
     "metadata": {},
     "output_type": "execute_result"
    }
   ],
   "source": [
    "dnn_model.evaluate(X_test,y_test)"
   ]
  },
  {
   "cell_type": "code",
   "execution_count": 71,
   "metadata": {},
   "outputs": [
    {
     "name": "stdout",
     "output_type": "stream",
     "text": [
      "[<tf.Tensor 'sequential/normalization_1/truediv:0' shape=(None, 1536) dtype=float32>]\n",
      "[<tf.Tensor 'sequential/dense/Relu:0' shape=(None, 128) dtype=float32>]\n",
      "[<tf.Tensor 'sequential/dense_1/Relu:0' shape=(None, 64) dtype=float32>]\n",
      "[<tf.Tensor 'sequential/dense_2/Relu:0' shape=(None, 64) dtype=float32>]\n",
      "[<tf.Tensor 'normalization_1/truediv:0' shape=(None, 1536) dtype=float32>]\n",
      "[<tf.Tensor 'dense/StatefulPartitionedCall:0' shape=(None, 128) dtype=float32>]\n",
      "[<tf.Tensor 'dense_1/StatefulPartitionedCall:0' shape=(None, 64) dtype=float32>]\n",
      "[<tf.Tensor 'dense_2/StatefulPartitionedCall:0' shape=(None, 64) dtype=float32>]\n",
      "[<tf.Tensor 'normalization_1/truediv:0' shape=(None, 1536) dtype=float32>]\n",
      "[<tf.Tensor 'dense/StatefulPartitionedCall:0' shape=(None, 128) dtype=float32>]\n",
      "[<tf.Tensor 'dense_1/StatefulPartitionedCall:0' shape=(None, 64) dtype=float32>]\n",
      "[<tf.Tensor 'dense_2/StatefulPartitionedCall:0' shape=(None, 64) dtype=float32>]\n",
      "[<tf.Tensor 'normalization_1/truediv:0' shape=(None, 1536) dtype=float32>]\n",
      "[<tf.Tensor 'dense/StatefulPartitionedCall:0' shape=(None, 128) dtype=float32>]\n",
      "[<tf.Tensor 'dense_1/StatefulPartitionedCall:0' shape=(None, 64) dtype=float32>]\n",
      "[<tf.Tensor 'dense_2/StatefulPartitionedCall:0' shape=(None, 64) dtype=float32>]\n",
      "[<tf.Tensor 'normalization_1/truediv:0' shape=(None, 1536) dtype=float32>]\n",
      "[<tf.Tensor 'dense/StatefulPartitionedCall:0' shape=(None, 128) dtype=float32>]\n",
      "[<tf.Tensor 'dense_1/StatefulPartitionedCall:0' shape=(None, 64) dtype=float32>]\n",
      "[<tf.Tensor 'dense_2/StatefulPartitionedCall:0' shape=(None, 64) dtype=float32>]\n",
      "[<tf.Tensor 'normalization_1/truediv:0' shape=(None, 1536) dtype=float32>]\n",
      "[<tf.Tensor 'dense/Relu:0' shape=(None, 128) dtype=float32>]\n",
      "[<tf.Tensor 'dense_1/Relu:0' shape=(None, 64) dtype=float32>]\n",
      "[<tf.Tensor 'dense_2/Relu:0' shape=(None, 64) dtype=float32>]\n",
      "[<tf.Tensor 'normalization_1/truediv:0' shape=(None, 1536) dtype=float32>]\n",
      "[<tf.Tensor 'dense/Relu:0' shape=(None, 128) dtype=float32>]\n",
      "[<tf.Tensor 'dense_1/Relu:0' shape=(None, 64) dtype=float32>]\n",
      "[<tf.Tensor 'dense_2/Relu:0' shape=(None, 64) dtype=float32>]\n",
      "INFO:tensorflow:Assets written to: dnn_model\\assets\n"
     ]
    }
   ],
   "source": [
    "dnn_model.save(\"dnn_model\")"
   ]
  },
  {
   "cell_type": "code",
   "execution_count": 66,
   "metadata": {},
   "outputs": [
    {
     "name": "stdout",
     "output_type": "stream",
     "text": [
      "[<tf.Tensor 'sequential/normalization_1/truediv:0' shape=(None, 1536) dtype=float32>]\n",
      "[<tf.Tensor 'sequential/dense/Relu:0' shape=(None, 128) dtype=float32>]\n",
      "[<tf.Tensor 'sequential/dense_1/Relu:0' shape=(None, 64) dtype=float32>]\n",
      "[<tf.Tensor 'sequential/dense_2/Relu:0' shape=(None, 64) dtype=float32>]\n"
     ]
    }
   ],
   "source": [
    "df_source['dnn_score'] = dnn_model.predict(X)"
   ]
  },
  {
   "cell_type": "code",
   "execution_count": 100,
   "metadata": {},
   "outputs": [],
   "source": [
    "corr = df_source[['avg-score','dnn_score']].corr()\n",
    "results = results.append({'Model':'dnn','Method': 'Pearson','Score': corr[corr.index == 'avg-score']['dnn_score'][0]},ignore_index=True)"
   ]
  },
  {
   "cell_type": "code",
   "execution_count": 101,
   "metadata": {},
   "outputs": [],
   "source": [
    "corr = df_source[['avg-score','dnn_score']].corr(method='kendall')\n",
    "results = results.append({'Model':'dnn','Method': 'Kendall Tau','Score': corr[corr.index == 'avg-score']['dnn_score'][0]},ignore_index=True)"
   ]
  },
  {
   "cell_type": "code",
   "execution_count": 102,
   "metadata": {},
   "outputs": [
    {
     "data": {
      "text/html": [
       "<div>\n",
       "<style scoped>\n",
       "    .dataframe tbody tr th:only-of-type {\n",
       "        vertical-align: middle;\n",
       "    }\n",
       "\n",
       "    .dataframe tbody tr th {\n",
       "        vertical-align: top;\n",
       "    }\n",
       "\n",
       "    .dataframe thead th {\n",
       "        text-align: right;\n",
       "    }\n",
       "</style>\n",
       "<table border=\"1\" class=\"dataframe\">\n",
       "  <thead>\n",
       "    <tr style=\"text-align: right;\">\n",
       "      <th></th>\n",
       "      <th>Model</th>\n",
       "      <th>Method</th>\n",
       "      <th>Score</th>\n",
       "    </tr>\n",
       "  </thead>\n",
       "  <tbody>\n",
       "    <tr>\n",
       "      <th>0</th>\n",
       "      <td>baseline</td>\n",
       "      <td>Pearson</td>\n",
       "      <td>0.399703</td>\n",
       "    </tr>\n",
       "    <tr>\n",
       "      <th>1</th>\n",
       "      <td>baseline</td>\n",
       "      <td>Kendall Tau</td>\n",
       "      <td>0.284507</td>\n",
       "    </tr>\n",
       "    <tr>\n",
       "      <th>2</th>\n",
       "      <td>dnn</td>\n",
       "      <td>Pearson</td>\n",
       "      <td>0.623123</td>\n",
       "    </tr>\n",
       "    <tr>\n",
       "      <th>3</th>\n",
       "      <td>dnn</td>\n",
       "      <td>Kendall Tau</td>\n",
       "      <td>0.448801</td>\n",
       "    </tr>\n",
       "  </tbody>\n",
       "</table>\n",
       "</div>"
      ],
      "text/plain": [
       "      Model       Method     Score\n",
       "0  baseline      Pearson  0.399703\n",
       "1  baseline  Kendall Tau  0.284507\n",
       "2       dnn      Pearson  0.623123\n",
       "3       dnn  Kendall Tau  0.448801"
      ]
     },
     "execution_count": 102,
     "metadata": {},
     "output_type": "execute_result"
    }
   ],
   "source": [
    "results"
   ]
  }
 ],
 "metadata": {
  "kernelspec": {
   "display_name": "Python 3",
   "language": "python",
   "name": "python3"
  },
  "language_info": {
   "codemirror_mode": {
    "name": "ipython",
    "version": 3
   },
   "file_extension": ".py",
   "mimetype": "text/x-python",
   "name": "python",
   "nbconvert_exporter": "python",
   "pygments_lexer": "ipython3",
   "version": "3.7.6"
  }
 },
 "nbformat": 4,
 "nbformat_minor": 4
}

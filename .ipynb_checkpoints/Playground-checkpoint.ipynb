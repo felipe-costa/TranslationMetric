{
 "cells": [
  {
   "cell_type": "code",
   "execution_count": 10,
   "metadata": {},
   "outputs": [],
   "source": [
    "from sklearn.feature_extraction.text import TfidfVectorizer\n",
    "import pandas as pd\n",
    "import numpy as np\n",
    "import os"
   ]
  },
  {
   "cell_type": "code",
   "execution_count": 2,
   "metadata": {},
   "outputs": [],
   "source": [
    "source_dir = \"preprocessed_corpus\\\\\"\n",
    "target_dir = \"features_extracted_corpus\\\\\"\n",
    "dir_list = next(os.walk(source_dir))[1]"
   ]
  },
  {
   "cell_type": "code",
   "execution_count": 3,
   "metadata": {},
   "outputs": [],
   "source": [
    "def create_dir(path):\n",
    "    if not os.path.exists(path):\n",
    "        os.makedirs(path)"
   ]
  },
  {
   "cell_type": "code",
   "execution_count": null,
   "metadata": {},
   "outputs": [],
   "source": [
    "for d in dir_list:\n",
    "    csv_path = source_dir + d + \"\\scores.csv\"\n",
    "    vectorizer = TfidfVectorizer(stop_words=\"english\", max_df=0.8)\n",
    "    preprocessed_df = pd.read_csv(csv_path)\n",
    "    create_dir(target_dir + d)\n",
    "    \n",
    "    X = vectorizer.fit_transform(preprocessed_df.reference).toarray()\n",
    "    df = pd.DataFrame(X,columns=vectorizer.vocabulary_)\n",
    "    df.to_csv(target_dir + d + \"\\\\reference.csv\")\n",
    "    \n",
    "    X = vectorizer.fit_transform(preprocessed_df.translation).toarray()\n",
    "    df = pd.DataFrame(X,columns=vectorizer.vocabulary_)\n",
    "    df.to_csv(target_dir + d + \"\\\\translation.csv\")\n",
    "    \n",
    "    "
   ]
  },
  {
   "cell_type": "code",
   "execution_count": 5,
   "metadata": {},
   "outputs": [],
   "source": [
    "df = pd.read_csv(d + \"\\scores.csv\")"
   ]
  },
  {
   "cell_type": "code",
   "execution_count": 6,
   "metadata": {},
   "outputs": [],
   "source": [
    "X = vectorizer.fit_transform(df.reference).toarray()"
   ]
  },
  {
   "cell_type": "code",
   "execution_count": 14,
   "metadata": {},
   "outputs": [],
   "source": [
    "df = pd.DataFrame(X,columns=vectorizer.vocabulary_)"
   ]
  },
  {
   "cell_type": "code",
   "execution_count": 114,
   "metadata": {},
   "outputs": [],
   "source": [
    "csv_path = source_dir + \"\\cs-en\\scores.csv\"\n",
    "vectorizer = TfidfVectorizer(stop_words=\"english\", max_df=0.8, max_features=300)\n",
    "preprocessed_df = pd.read_csv(csv_path)\n",
    "preprocessed_df = preprocessed_df\n",
    "    \n",
    "X = vectorizer.fit_transform(preprocessed_df.reference).toarray()\n",
    "df_reference = pd.DataFrame(X)\n",
    "    \n",
    "X = vectorizer.fit_transform(preprocessed_df.translation).toarray()\n",
    "df_translation = pd.DataFrame(X,columns=vectorizer.vocabulary_)\n",
    "    "
   ]
  },
  {
   "cell_type": "code",
   "execution_count": 106,
   "metadata": {},
   "outputs": [],
   "source": [
    "unique_columns = list(set(list(df_reference.columns) + list(df_translation.columns)))"
   ]
  },
  {
   "cell_type": "code",
   "execution_count": 107,
   "metadata": {},
   "outputs": [
    {
     "data": {
      "text/plain": [
       "8141"
      ]
     },
     "execution_count": 107,
     "metadata": {},
     "output_type": "execute_result"
    }
   ],
   "source": [
    "len(unique_columns)"
   ]
  },
  {
   "cell_type": "code",
   "execution_count": 115,
   "metadata": {},
   "outputs": [],
   "source": [
    "df_reference.to_csv(\"c:\\Temp\\df_reference.csv\")"
   ]
  },
  {
   "cell_type": "code",
   "execution_count": 109,
   "metadata": {},
   "outputs": [
    {
     "data": {
      "text/html": [
       "<div>\n",
       "<style scoped>\n",
       "    .dataframe tbody tr th:only-of-type {\n",
       "        vertical-align: middle;\n",
       "    }\n",
       "\n",
       "    .dataframe tbody tr th {\n",
       "        vertical-align: top;\n",
       "    }\n",
       "\n",
       "    .dataframe thead th {\n",
       "        text-align: right;\n",
       "    }\n",
       "</style>\n",
       "<table border=\"1\" class=\"dataframe\">\n",
       "  <thead>\n",
       "    <tr style=\"text-align: right;\">\n",
       "      <th></th>\n",
       "      <th>capabl</th>\n",
       "      <th>politico</th>\n",
       "      <th>tickfaw</th>\n",
       "      <th>dump</th>\n",
       "      <th>knuckl</th>\n",
       "      <th>display</th>\n",
       "      <th>scribbl</th>\n",
       "      <th>steal</th>\n",
       "      <th>offens</th>\n",
       "      <th>nose</th>\n",
       "      <th>...</th>\n",
       "      <th>wall</th>\n",
       "      <th>johnsonov</th>\n",
       "      <th>chalet</th>\n",
       "      <th>birthday</th>\n",
       "      <th>revan</th>\n",
       "      <th>weapon</th>\n",
       "      <th>viewer</th>\n",
       "      <th>astronom</th>\n",
       "      <th>dine</th>\n",
       "      <th>radic</th>\n",
       "    </tr>\n",
       "  </thead>\n",
       "  <tbody>\n",
       "  </tbody>\n",
       "</table>\n",
       "<p>0 rows × 8141 columns</p>\n",
       "</div>"
      ],
      "text/plain": [
       "Empty DataFrame\n",
       "Columns: [capabl, politico, tickfaw, dump, knuckl, display, scribbl, steal, offens, nose, battl, pat, stuck, occasion, wouldn, jeep, championship, bisexu, exhilar, ji, sedlek, disregard, bat, chd, rebuild, love, sack, pamper, youngest, spout, batch, thorough, recoveri, handgun, dude, nail, lowli, daniel, nepomuk, victoria, improv, greatest, startford, foremost, splachovadlo, midd, communism, plo, unansw, communic, swan, lk, task, enforc, terroris, isol, casino, bezp, global, modern, kubicek, surreal, barack, birth, forward, airbnb, ministr, hundredth, kem, scour, transsexu, suffolk, disord, pejchal, likemind, lost, writh, islamist, glimps, pret, inadequ, dilut, essen, implement, threw, misguid, meet, ellen, divorc, bridg, dooley, royal, surpris, bem, synek, pushback, pohor, metaphor, harder, lame, ...]\n",
       "Index: []\n",
       "\n",
       "[0 rows x 8141 columns]"
      ]
     },
     "execution_count": 109,
     "metadata": {},
     "output_type": "execute_result"
    }
   ],
   "source": [
    "df_X"
   ]
  },
  {
   "cell_type": "code",
   "execution_count": 79,
   "metadata": {},
   "outputs": [],
   "source": [
    "df_Y[df_reference.columns] = df_reference"
   ]
  },
  {
   "cell_type": "code",
   "execution_count": 81,
   "metadata": {},
   "outputs": [],
   "source": [
    "df_X[df_translation.columns] = df_translation"
   ]
  },
  {
   "cell_type": "code",
   "execution_count": 84,
   "metadata": {},
   "outputs": [],
   "source": [
    "df_X = df_X.fillna(0)"
   ]
  },
  {
   "cell_type": "code",
   "execution_count": 85,
   "metadata": {},
   "outputs": [],
   "source": [
    "df_Y =df_Y.fillna(0)"
   ]
  },
  {
   "cell_type": "code",
   "execution_count": 93,
   "metadata": {},
   "outputs": [],
   "source": [
    "from sklearn.metrics.pairwise import cosine_similarity\n",
    "scores = cosine_similarity(np.array(df_X.head(1)),np.array(df_Y.head(1)))"
   ]
  },
  {
   "cell_type": "code",
   "execution_count": 94,
   "metadata": {},
   "outputs": [
    {
     "data": {
      "text/html": [
       "<div>\n",
       "<style scoped>\n",
       "    .dataframe tbody tr th:only-of-type {\n",
       "        vertical-align: middle;\n",
       "    }\n",
       "\n",
       "    .dataframe tbody tr th {\n",
       "        vertical-align: top;\n",
       "    }\n",
       "\n",
       "    .dataframe thead th {\n",
       "        text-align: right;\n",
       "    }\n",
       "</style>\n",
       "<table border=\"1\" class=\"dataframe\">\n",
       "  <thead>\n",
       "    <tr style=\"text-align: right;\">\n",
       "      <th></th>\n",
       "      <th>0</th>\n",
       "    </tr>\n",
       "  </thead>\n",
       "  <tbody>\n",
       "    <tr>\n",
       "      <th>0</th>\n",
       "      <td>0.0</td>\n",
       "    </tr>\n",
       "  </tbody>\n",
       "</table>\n",
       "</div>"
      ],
      "text/plain": [
       "     0\n",
       "0  0.0"
      ]
     },
     "execution_count": 94,
     "metadata": {},
     "output_type": "execute_result"
    }
   ],
   "source": [
    "pd.DataFrame(scores.flatten())"
   ]
  },
  {
   "cell_type": "code",
   "execution_count": 97,
   "metadata": {},
   "outputs": [
    {
     "data": {
      "text/html": [
       "<div>\n",
       "<style scoped>\n",
       "    .dataframe tbody tr th:only-of-type {\n",
       "        vertical-align: middle;\n",
       "    }\n",
       "\n",
       "    .dataframe tbody tr th {\n",
       "        vertical-align: top;\n",
       "    }\n",
       "\n",
       "    .dataframe thead th {\n",
       "        text-align: right;\n",
       "    }\n",
       "</style>\n",
       "<table border=\"1\" class=\"dataframe\">\n",
       "  <thead>\n",
       "    <tr style=\"text-align: right;\">\n",
       "      <th></th>\n",
       "      <th>Unnamed: 0</th>\n",
       "      <th>source</th>\n",
       "      <th>reference</th>\n",
       "      <th>translation</th>\n",
       "      <th>z-score</th>\n",
       "      <th>avg-score</th>\n",
       "      <th>annotators</th>\n",
       "    </tr>\n",
       "  </thead>\n",
       "  <tbody>\n",
       "    <tr>\n",
       "      <th>0</th>\n",
       "      <td>0</td>\n",
       "      <td>Uchopíte pak zbraň mezi své předloktí a rameno...</td>\n",
       "      <td>you will then grab the weapon between your for...</td>\n",
       "      <td>you then grasp the gun between your forearm an...</td>\n",
       "      <td>-0.675383</td>\n",
       "      <td>60.000000</td>\n",
       "      <td>3</td>\n",
       "    </tr>\n",
       "    <tr>\n",
       "      <th>1</th>\n",
       "      <td>1</td>\n",
       "      <td>Ale je-li New York změna, pak je to také znovu...</td>\n",
       "      <td>but if new york is chang then it s also a redi...</td>\n",
       "      <td>but if new york is chang it is also reinvent</td>\n",
       "      <td>-0.829403</td>\n",
       "      <td>44.000000</td>\n",
       "      <td>2</td>\n",
       "    </tr>\n",
       "    <tr>\n",
       "      <th>2</th>\n",
       "      <td>2</td>\n",
       "      <td>Dlouho a intenzivně jsem během léta přemýšlel,...</td>\n",
       "      <td>i have been think over and over again over the...</td>\n",
       "      <td>i have thought long and hard over the cours of...</td>\n",
       "      <td>0.803185</td>\n",
       "      <td>96.500000</td>\n",
       "      <td>2</td>\n",
       "    </tr>\n",
       "    <tr>\n",
       "      <th>3</th>\n",
       "      <td>3</td>\n",
       "      <td>Najdou si jiný způsob, jak někde podvádět.</td>\n",
       "      <td>they find anoth way to cheat somewher</td>\n",
       "      <td>they will find anoth way how to defraud other</td>\n",
       "      <td>0.563149</td>\n",
       "      <td>90.500000</td>\n",
       "      <td>2</td>\n",
       "    </tr>\n",
       "    <tr>\n",
       "      <th>4</th>\n",
       "      <td>4</td>\n",
       "      <td>Zpráva o výměně v čele prezidentovy administra...</td>\n",
       "      <td>the report on the replac of the presid s admin...</td>\n",
       "      <td>the news of the replac at the top of the presi...</td>\n",
       "      <td>0.021549</td>\n",
       "      <td>74.666667</td>\n",
       "      <td>3</td>\n",
       "    </tr>\n",
       "    <tr>\n",
       "      <th>...</th>\n",
       "      <td>...</td>\n",
       "      <td>...</td>\n",
       "      <td>...</td>\n",
       "      <td>...</td>\n",
       "      <td>...</td>\n",
       "      <td>...</td>\n",
       "      <td>...</td>\n",
       "    </tr>\n",
       "    <tr>\n",
       "      <th>95</th>\n",
       "      <td>95</td>\n",
       "      <td>Tady dokonce odpadá časově náročnější vaření a...</td>\n",
       "      <td>there is even no time consum cook and cool of ...</td>\n",
       "      <td>which allow you to skip the more time consum c...</td>\n",
       "      <td>-0.251244</td>\n",
       "      <td>60.000000</td>\n",
       "      <td>3</td>\n",
       "    </tr>\n",
       "    <tr>\n",
       "      <th>96</th>\n",
       "      <td>96</td>\n",
       "      <td>Novinka se okouká a zájem o ni začne v určitém...</td>\n",
       "      <td>the novel look and the interest begin to fall ...</td>\n",
       "      <td>the novelti will wear off and use will subsid ...</td>\n",
       "      <td>-1.637813</td>\n",
       "      <td>31.500000</td>\n",
       "      <td>2</td>\n",
       "    </tr>\n",
       "    <tr>\n",
       "      <th>97</th>\n",
       "      <td>97</td>\n",
       "      <td>Myslím hlavně u zahraničních diváků, na než je...</td>\n",
       "      <td>i am think main of foreign audienc to whom the...</td>\n",
       "      <td>i main heard from foreign viewer who were our ...</td>\n",
       "      <td>-0.543723</td>\n",
       "      <td>60.500000</td>\n",
       "      <td>2</td>\n",
       "    </tr>\n",
       "    <tr>\n",
       "      <th>98</th>\n",
       "      <td>98</td>\n",
       "      <td>K největším protestům došlo v oblastech obývan...</td>\n",
       "      <td>the largest protest occur in the area popul by...</td>\n",
       "      <td>the biggest protest have been in amhara and or...</td>\n",
       "      <td>0.605569</td>\n",
       "      <td>94.500000</td>\n",
       "      <td>2</td>\n",
       "    </tr>\n",
       "    <tr>\n",
       "      <th>99</th>\n",
       "      <td>99</td>\n",
       "      <td>Vývojáři se musejí neustále učit nové věci, co...</td>\n",
       "      <td>develop need to constant learn new thing which...</td>\n",
       "      <td>develop must constant learn new thing which ca...</td>\n",
       "      <td>-0.062658</td>\n",
       "      <td>78.000000</td>\n",
       "      <td>2</td>\n",
       "    </tr>\n",
       "  </tbody>\n",
       "</table>\n",
       "<p>100 rows × 7 columns</p>\n",
       "</div>"
      ],
      "text/plain": [
       "    Unnamed: 0                                             source  \\\n",
       "0            0  Uchopíte pak zbraň mezi své předloktí a rameno...   \n",
       "1            1  Ale je-li New York změna, pak je to také znovu...   \n",
       "2            2  Dlouho a intenzivně jsem během léta přemýšlel,...   \n",
       "3            3         Najdou si jiný způsob, jak někde podvádět.   \n",
       "4            4  Zpráva o výměně v čele prezidentovy administra...   \n",
       "..         ...                                                ...   \n",
       "95          95  Tady dokonce odpadá časově náročnější vaření a...   \n",
       "96          96  Novinka se okouká a zájem o ni začne v určitém...   \n",
       "97          97  Myslím hlavně u zahraničních diváků, na než je...   \n",
       "98          98  K největším protestům došlo v oblastech obývan...   \n",
       "99          99  Vývojáři se musejí neustále učit nové věci, co...   \n",
       "\n",
       "                                            reference  \\\n",
       "0   you will then grab the weapon between your for...   \n",
       "1   but if new york is chang then it s also a redi...   \n",
       "2   i have been think over and over again over the...   \n",
       "3               they find anoth way to cheat somewher   \n",
       "4   the report on the replac of the presid s admin...   \n",
       "..                                                ...   \n",
       "95  there is even no time consum cook and cool of ...   \n",
       "96  the novel look and the interest begin to fall ...   \n",
       "97  i am think main of foreign audienc to whom the...   \n",
       "98  the largest protest occur in the area popul by...   \n",
       "99  develop need to constant learn new thing which...   \n",
       "\n",
       "                                          translation   z-score  avg-score  \\\n",
       "0   you then grasp the gun between your forearm an... -0.675383  60.000000   \n",
       "1        but if new york is chang it is also reinvent -0.829403  44.000000   \n",
       "2   i have thought long and hard over the cours of...  0.803185  96.500000   \n",
       "3       they will find anoth way how to defraud other  0.563149  90.500000   \n",
       "4   the news of the replac at the top of the presi...  0.021549  74.666667   \n",
       "..                                                ...       ...        ...   \n",
       "95  which allow you to skip the more time consum c... -0.251244  60.000000   \n",
       "96  the novelti will wear off and use will subsid ... -1.637813  31.500000   \n",
       "97  i main heard from foreign viewer who were our ... -0.543723  60.500000   \n",
       "98  the biggest protest have been in amhara and or...  0.605569  94.500000   \n",
       "99  develop must constant learn new thing which ca... -0.062658  78.000000   \n",
       "\n",
       "    annotators  \n",
       "0            3  \n",
       "1            2  \n",
       "2            2  \n",
       "3            2  \n",
       "4            3  \n",
       "..         ...  \n",
       "95           3  \n",
       "96           2  \n",
       "97           2  \n",
       "98           2  \n",
       "99           2  \n",
       "\n",
       "[100 rows x 7 columns]"
      ]
     },
     "execution_count": 97,
     "metadata": {},
     "output_type": "execute_result"
    }
   ],
   "source": [
    "preprocessed_df"
   ]
  },
  {
   "cell_type": "code",
   "execution_count": 101,
   "metadata": {},
   "outputs": [
    {
     "data": {
      "text/html": [
       "<div>\n",
       "<style scoped>\n",
       "    .dataframe tbody tr th:only-of-type {\n",
       "        vertical-align: middle;\n",
       "    }\n",
       "\n",
       "    .dataframe tbody tr th {\n",
       "        vertical-align: top;\n",
       "    }\n",
       "\n",
       "    .dataframe thead th {\n",
       "        text-align: right;\n",
       "    }\n",
       "</style>\n",
       "<table border=\"1\" class=\"dataframe\">\n",
       "  <thead>\n",
       "    <tr style=\"text-align: right;\">\n",
       "      <th></th>\n",
       "      <th>think</th>\n",
       "    </tr>\n",
       "  </thead>\n",
       "  <tbody>\n",
       "    <tr>\n",
       "      <th>2</th>\n",
       "      <td>0.0</td>\n",
       "    </tr>\n",
       "  </tbody>\n",
       "</table>\n",
       "</div>"
      ],
      "text/plain": [
       "   think\n",
       "2    0.0"
      ]
     },
     "execution_count": 101,
     "metadata": {},
     "output_type": "execute_result"
    }
   ],
   "source": [
    "df_X[df_X.index == 2][['think']]"
   ]
  },
  {
   "cell_type": "code",
   "execution_count": 167,
   "metadata": {},
   "outputs": [],
   "source": [
    "df = preprocessed_df[preprocessed_df.index == 2].reset_index()"
   ]
  },
  {
   "cell_type": "code",
   "execution_count": 146,
   "metadata": {},
   "outputs": [
    {
     "data": {
      "text/html": [
       "<div>\n",
       "<style scoped>\n",
       "    .dataframe tbody tr th:only-of-type {\n",
       "        vertical-align: middle;\n",
       "    }\n",
       "\n",
       "    .dataframe tbody tr th {\n",
       "        vertical-align: top;\n",
       "    }\n",
       "\n",
       "    .dataframe thead th {\n",
       "        text-align: right;\n",
       "    }\n",
       "</style>\n",
       "<table border=\"1\" class=\"dataframe\">\n",
       "  <thead>\n",
       "    <tr style=\"text-align: right;\">\n",
       "      <th></th>\n",
       "      <th>source</th>\n",
       "      <th>reference</th>\n",
       "      <th>translation</th>\n",
       "      <th>z-score</th>\n",
       "      <th>avg-score</th>\n",
       "      <th>annotators</th>\n",
       "    </tr>\n",
       "  </thead>\n",
       "  <tbody>\n",
       "    <tr>\n",
       "      <th>0</th>\n",
       "      <td>Dlouho a intenzivně jsem během léta přemýšlel,...</td>\n",
       "      <td>i have been think over and over again over the...</td>\n",
       "      <td>i have thought long and hard over the cours of...</td>\n",
       "      <td>0.803185</td>\n",
       "      <td>96.5</td>\n",
       "      <td>2</td>\n",
       "    </tr>\n",
       "  </tbody>\n",
       "</table>\n",
       "</div>"
      ],
      "text/plain": [
       "                                              source  \\\n",
       "0  Dlouho a intenzivně jsem během léta přemýšlel,...   \n",
       "\n",
       "                                           reference  \\\n",
       "0  i have been think over and over again over the...   \n",
       "\n",
       "                                         translation   z-score  avg-score  \\\n",
       "0  i have thought long and hard over the cours of...  0.803185       96.5   \n",
       "\n",
       "   annotators  \n",
       "0           2  "
      ]
     },
     "execution_count": 146,
     "metadata": {},
     "output_type": "execute_result"
    }
   ],
   "source": [
    "del df[df.columns[0]]\n",
    "del df[df.columns[0]]\n",
    "df"
   ]
  },
  {
   "cell_type": "code",
   "execution_count": 148,
   "metadata": {},
   "outputs": [
    {
     "data": {
      "text/html": [
       "<div>\n",
       "<style scoped>\n",
       "    .dataframe tbody tr th:only-of-type {\n",
       "        vertical-align: middle;\n",
       "    }\n",
       "\n",
       "    .dataframe tbody tr th {\n",
       "        vertical-align: top;\n",
       "    }\n",
       "\n",
       "    .dataframe thead th {\n",
       "        text-align: right;\n",
       "    }\n",
       "</style>\n",
       "<table border=\"1\" class=\"dataframe\">\n",
       "  <thead>\n",
       "    <tr style=\"text-align: right;\">\n",
       "      <th></th>\n",
       "      <th>think</th>\n",
       "      <th>summer</th>\n",
       "      <th>improv</th>\n",
       "      <th>depth</th>\n",
       "      <th>need</th>\n",
       "      <th>higher</th>\n",
       "      <th>level</th>\n",
       "    </tr>\n",
       "  </thead>\n",
       "  <tbody>\n",
       "    <tr>\n",
       "      <th>0</th>\n",
       "      <td>0.377964</td>\n",
       "      <td>0.377964</td>\n",
       "      <td>0.377964</td>\n",
       "      <td>0.377964</td>\n",
       "      <td>0.377964</td>\n",
       "      <td>0.377964</td>\n",
       "      <td>0.377964</td>\n",
       "    </tr>\n",
       "  </tbody>\n",
       "</table>\n",
       "</div>"
      ],
      "text/plain": [
       "      think    summer    improv     depth      need    higher     level\n",
       "0  0.377964  0.377964  0.377964  0.377964  0.377964  0.377964  0.377964"
      ]
     },
     "execution_count": 148,
     "metadata": {},
     "output_type": "execute_result"
    }
   ],
   "source": [
    "vectorizer = TfidfVectorizer(stop_words=\"english\")\n",
    "    \n",
    "X = vectorizer.fit_transform(df.reference).toarray()\n",
    "df_reference = pd.DataFrame(X,columns=vectorizer.vocabulary_)\n",
    "df_reference\n"
   ]
  },
  {
   "cell_type": "code",
   "execution_count": 150,
   "metadata": {},
   "outputs": [
    {
     "data": {
      "text/html": [
       "<div>\n",
       "<style scoped>\n",
       "    .dataframe tbody tr th:only-of-type {\n",
       "        vertical-align: middle;\n",
       "    }\n",
       "\n",
       "    .dataframe tbody tr th {\n",
       "        vertical-align: top;\n",
       "    }\n",
       "\n",
       "    .dataframe thead th {\n",
       "        text-align: right;\n",
       "    }\n",
       "</style>\n",
       "<table border=\"1\" class=\"dataframe\">\n",
       "  <thead>\n",
       "    <tr style=\"text-align: right;\">\n",
       "      <th></th>\n",
       "      <th>thought</th>\n",
       "      <th>long</th>\n",
       "      <th>hard</th>\n",
       "      <th>cours</th>\n",
       "      <th>summer</th>\n",
       "      <th>improv</th>\n",
       "      <th>team</th>\n",
       "      <th>depth</th>\n",
       "      <th>need</th>\n",
       "      <th>bring</th>\n",
       "      <th>higher</th>\n",
       "      <th>level</th>\n",
       "    </tr>\n",
       "  </thead>\n",
       "  <tbody>\n",
       "    <tr>\n",
       "      <th>0</th>\n",
       "      <td>0.288675</td>\n",
       "      <td>0.288675</td>\n",
       "      <td>0.288675</td>\n",
       "      <td>0.288675</td>\n",
       "      <td>0.288675</td>\n",
       "      <td>0.288675</td>\n",
       "      <td>0.288675</td>\n",
       "      <td>0.288675</td>\n",
       "      <td>0.288675</td>\n",
       "      <td>0.288675</td>\n",
       "      <td>0.288675</td>\n",
       "      <td>0.288675</td>\n",
       "    </tr>\n",
       "  </tbody>\n",
       "</table>\n",
       "</div>"
      ],
      "text/plain": [
       "    thought      long      hard     cours    summer    improv      team  \\\n",
       "0  0.288675  0.288675  0.288675  0.288675  0.288675  0.288675  0.288675   \n",
       "\n",
       "      depth      need     bring    higher     level  \n",
       "0  0.288675  0.288675  0.288675  0.288675  0.288675  "
      ]
     },
     "execution_count": 150,
     "metadata": {},
     "output_type": "execute_result"
    }
   ],
   "source": [
    "Y = vectorizer.fit_transform(df.translation).toarray()\n",
    "df_translation = pd.DataFrame(Y,columns=vectorizer.vocabulary_)\n",
    "df_translation"
   ]
  },
  {
   "cell_type": "code",
   "execution_count": 151,
   "metadata": {},
   "outputs": [],
   "source": [
    "unique_columns = list(set(list(df_reference.columns) + list(df_translation.columns)))\n",
    "df_X = pd.DataFrame(columns=unique_columns)\n",
    "df_Y = pd.DataFrame(columns=unique_columns)\n",
    "df_Y[df_reference.columns] = df_reference\n",
    "df_X[df_translation.columns] = df_translation"
   ]
  },
  {
   "cell_type": "code",
   "execution_count": 158,
   "metadata": {},
   "outputs": [],
   "source": [
    "df_X = df_X.fillna(0)\n",
    "df_Y = df_Y.fillna(0)"
   ]
  },
  {
   "cell_type": "code",
   "execution_count": 159,
   "metadata": {},
   "outputs": [],
   "source": [
    "scores = cosine_similarity(np.array(df_X.head(1)),np.array(df_Y.head(1)))"
   ]
  },
  {
   "cell_type": "code",
   "execution_count": 160,
   "metadata": {},
   "outputs": [
    {
     "data": {
      "text/plain": [
       "array([[0.65465367]])"
      ]
     },
     "execution_count": 160,
     "metadata": {},
     "output_type": "execute_result"
    }
   ],
   "source": [
    "scores"
   ]
  },
  {
   "cell_type": "code",
   "execution_count": 161,
   "metadata": {},
   "outputs": [
    {
     "data": {
      "text/html": [
       "<div>\n",
       "<style scoped>\n",
       "    .dataframe tbody tr th:only-of-type {\n",
       "        vertical-align: middle;\n",
       "    }\n",
       "\n",
       "    .dataframe tbody tr th {\n",
       "        vertical-align: top;\n",
       "    }\n",
       "\n",
       "    .dataframe thead th {\n",
       "        text-align: right;\n",
       "    }\n",
       "</style>\n",
       "<table border=\"1\" class=\"dataframe\">\n",
       "  <thead>\n",
       "    <tr style=\"text-align: right;\">\n",
       "      <th></th>\n",
       "      <th>summer</th>\n",
       "      <th>bring</th>\n",
       "      <th>team</th>\n",
       "      <th>cours</th>\n",
       "      <th>think</th>\n",
       "      <th>need</th>\n",
       "      <th>long</th>\n",
       "      <th>depth</th>\n",
       "      <th>level</th>\n",
       "      <th>hard</th>\n",
       "      <th>higher</th>\n",
       "      <th>improv</th>\n",
       "      <th>thought</th>\n",
       "    </tr>\n",
       "  </thead>\n",
       "  <tbody>\n",
       "    <tr>\n",
       "      <th>0</th>\n",
       "      <td>0.288675</td>\n",
       "      <td>0.288675</td>\n",
       "      <td>0.288675</td>\n",
       "      <td>0.288675</td>\n",
       "      <td>0</td>\n",
       "      <td>0.288675</td>\n",
       "      <td>0.288675</td>\n",
       "      <td>0.288675</td>\n",
       "      <td>0.288675</td>\n",
       "      <td>0.288675</td>\n",
       "      <td>0.288675</td>\n",
       "      <td>0.288675</td>\n",
       "      <td>0.288675</td>\n",
       "    </tr>\n",
       "  </tbody>\n",
       "</table>\n",
       "</div>"
      ],
      "text/plain": [
       "     summer     bring      team     cours  think      need      long  \\\n",
       "0  0.288675  0.288675  0.288675  0.288675      0  0.288675  0.288675   \n",
       "\n",
       "      depth     level      hard    higher    improv   thought  \n",
       "0  0.288675  0.288675  0.288675  0.288675  0.288675  0.288675  "
      ]
     },
     "execution_count": 161,
     "metadata": {},
     "output_type": "execute_result"
    }
   ],
   "source": [
    "df_X"
   ]
  },
  {
   "cell_type": "code",
   "execution_count": 165,
   "metadata": {},
   "outputs": [
    {
     "data": {
      "text/plain": [
       "RangeIndex(start=0, stop=1, step=1)"
      ]
     },
     "execution_count": 165,
     "metadata": {},
     "output_type": "execute_result"
    }
   ],
   "source": [
    "df_Y.index"
   ]
  },
  {
   "cell_type": "code",
   "execution_count": 207,
   "metadata": {},
   "outputs": [],
   "source": [
    "def calculate_metric(df,language):\n",
    "    scores = []\n",
    "    \n",
    "    for i in df.index:\n",
    "        vectorizer = TfidfVectorizer(stop_words=language)\n",
    "        \n",
    "        X = vectorizer.fit_transform(df.reference).toarray()\n",
    "        X = pd.DataFrame(X,columns=vectorizer.vocabulary_)\n",
    "        \n",
    "        Y = vectorizer.fit_transform(df.translation).toarray()\n",
    "        Y = pd.DataFrame(Y,columns=vectorizer.vocabulary_)\n",
    "        \n",
    "\n",
    "        features = list(set(list(X.columns) + list(Y.columns)))\n",
    "        \n",
    "        df_X = pd.DataFrame(columns=features)\n",
    "        df_X[X.columns] = X      \n",
    "\n",
    "        \n",
    "        df_Y = pd.DataFrame(columns=features)\n",
    "        df_Y[Y.columns] = Y\n",
    "        \n",
    "        df_X = df_X.fillna(0)\n",
    "        df_Y = df_Y.fillna(0)\n",
    "        \n",
    "        scores.append(cosine_similarity(np.array(df_X),np.array(df_Y)))\n",
    "    return scores\n",
    "        "
   ]
  },
  {
   "cell_type": "code",
   "execution_count": null,
   "metadata": {},
   "outputs": [],
   "source": [
    "csv_path = source_dir + \"\\cs-en\\scores.csv\"\n",
    "df = pd.read_csv(csv_path)\n",
    "calculate_metric(df,'english')"
   ]
  },
  {
   "cell_type": "code",
   "execution_count": null,
   "metadata": {},
   "outputs": [],
   "source": []
  }
 ],
 "metadata": {
  "kernelspec": {
   "display_name": "Python 3",
   "language": "python",
   "name": "python3"
  },
  "language_info": {
   "codemirror_mode": {
    "name": "ipython",
    "version": 3
   },
   "file_extension": ".py",
   "mimetype": "text/x-python",
   "name": "python",
   "nbconvert_exporter": "python",
   "pygments_lexer": "ipython3",
   "version": "3.7.6"
  }
 },
 "nbformat": 4,
 "nbformat_minor": 4
}

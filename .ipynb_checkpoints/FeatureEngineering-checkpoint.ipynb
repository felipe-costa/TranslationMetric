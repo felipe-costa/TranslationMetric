{
 "cells": [
  {
   "cell_type": "code",
   "execution_count": 1,
   "metadata": {},
   "outputs": [
    {
     "name": "stderr",
     "output_type": "stream",
     "text": [
      "C:\\ProgramData\\Anaconda3\\lib\\site-packages\\gensim\\similarities\\__init__.py:15: UserWarning: The gensim.similarities.levenshtein submodule is disabled, because the optional Levenshtein package <https://pypi.org/project/python-Levenshtein/> is unavailable. Install Levenhstein (e.g. `pip install python-Levenshtein`) to suppress this warning.\n",
      "  warnings.warn(msg)\n"
     ]
    }
   ],
   "source": [
    "import pandas as pd\n",
    "import os\n",
    "import numpy as np\n",
    "from nltk.tokenize import word_tokenize\n",
    "from metric_feature import MetricFeature\n",
    "from gensim.models import Word2Vec,KeyedVectors\n",
    "import codecs\n",
    "from nltk import ngrams\n",
    "from baseline import Baseline\n",
    "from metric_feature import MetricFeature"
   ]
  },
  {
   "cell_type": "code",
   "execution_count": 2,
   "metadata": {},
   "outputs": [],
   "source": [
    "source_dir = \"preprocessed_corpus\\\\\"\n",
    "target_dir = \"features_corpus\\\\\"\n",
    "dir_list = next(os.walk(source_dir))[1]"
   ]
  },
  {
   "cell_type": "code",
   "execution_count": 3,
   "metadata": {},
   "outputs": [],
   "source": [
    "model_path = 'C:\\\\Temp\\\\wordvectors\\\\GoogleNews-vectors-negative300.bin'\n",
    "model = KeyedVectors.load_word2vec_format(model_path,binary=True,unicode_errors='ignore')\n",
    "stopwords= [w.strip() for w in codecs.open('english-stopwords.txt', 'r',encoding='utf-8').readlines()]"
   ]
  },
  {
   "cell_type": "code",
   "execution_count": 4,
   "metadata": {},
   "outputs": [],
   "source": [
    "model.fill_norms()"
   ]
  },
  {
   "cell_type": "code",
   "execution_count": 5,
   "metadata": {},
   "outputs": [],
   "source": [
    "baseline = Baseline(df=None,language='english',model=model,stopwords=stopwords)"
   ]
  },
  {
   "cell_type": "code",
   "execution_count": 8,
   "metadata": {},
   "outputs": [],
   "source": [
    "csv_path = source_dir + \"\\cs-en\\scores.csv\"\n",
    "df = pd.read_csv(csv_path)\n",
    "features = []"
   ]
  },
  {
   "cell_type": "code",
   "execution_count": 9,
   "metadata": {},
   "outputs": [],
   "source": [
    "for index,row in df.iterrows():   \n",
    "    try:\n",
    "        metric_feature = MetricFeature(row['reference'],row['translation'],baseline)\n",
    "        metric_feature.fit_transform()\n",
    "        features.append(metric_feature)\n",
    "    except Exception as exc:\n",
    "        print(index)\n",
    "        print(exc)\n"
   ]
  },
  {
   "cell_type": "code",
   "execution_count": 11,
   "metadata": {},
   "outputs": [
    {
     "name": "stdout",
     "output_type": "stream",
     "text": [
      "Cosine Similarity: 0.8996625858722478\n",
      "Cosine Similarity: 3 \n",
      "Cosine Similarity: 6 \n",
      "Cosine Similarity: 23 \n",
      "Cosine Similarity: 20\n"
     ]
    }
   ],
   "source": [
    "print(features[0])"
   ]
  },
  {
   "cell_type": "code",
   "execution_count": 17,
   "metadata": {},
   "outputs": [],
   "source": [
    "df_features = pd.DataFrame(columns=['cosine_similarity','missing_words_reference','missing_words_translation','total_reference_words','total_translation_words'])"
   ]
  },
  {
   "cell_type": "code",
   "execution_count": 18,
   "metadata": {},
   "outputs": [
    {
     "data": {
      "text/html": [
       "<div>\n",
       "<style scoped>\n",
       "    .dataframe tbody tr th:only-of-type {\n",
       "        vertical-align: middle;\n",
       "    }\n",
       "\n",
       "    .dataframe tbody tr th {\n",
       "        vertical-align: top;\n",
       "    }\n",
       "\n",
       "    .dataframe thead th {\n",
       "        text-align: right;\n",
       "    }\n",
       "</style>\n",
       "<table border=\"1\" class=\"dataframe\">\n",
       "  <thead>\n",
       "    <tr style=\"text-align: right;\">\n",
       "      <th></th>\n",
       "      <th>cosine_similarity</th>\n",
       "      <th>missing_words_reference</th>\n",
       "      <th>missing_words_translation</th>\n",
       "      <th>total_reference_words</th>\n",
       "      <th>total_translation_words</th>\n",
       "    </tr>\n",
       "  </thead>\n",
       "  <tbody>\n",
       "  </tbody>\n",
       "</table>\n",
       "</div>"
      ],
      "text/plain": [
       "Empty DataFrame\n",
       "Columns: [cosine_similarity, missing_words_reference, missing_words_translation, total_reference_words, total_translation_words]\n",
       "Index: []"
      ]
     },
     "execution_count": 18,
     "metadata": {},
     "output_type": "execute_result"
    }
   ],
   "source": [
    "df_features"
   ]
  },
  {
   "cell_type": "code",
   "execution_count": 24,
   "metadata": {},
   "outputs": [],
   "source": [
    "for f in features:\n",
    "    row = {'cosine_similarity': f.cosine_similarity, 'missing_words_reference': f.missing_words_reference\n",
    "           ,'missing_words_translation': f.missing_words_translation,'total_reference_words': f.total_reference_words\n",
    "          ,'total_translation_words': f.total_translation_words}\n",
    "    df_features = df_features.append(row,ignore_index=True)"
   ]
  },
  {
   "cell_type": "code",
   "execution_count": 25,
   "metadata": {},
   "outputs": [
    {
     "data": {
      "text/html": [
       "<div>\n",
       "<style scoped>\n",
       "    .dataframe tbody tr th:only-of-type {\n",
       "        vertical-align: middle;\n",
       "    }\n",
       "\n",
       "    .dataframe tbody tr th {\n",
       "        vertical-align: top;\n",
       "    }\n",
       "\n",
       "    .dataframe thead th {\n",
       "        text-align: right;\n",
       "    }\n",
       "</style>\n",
       "<table border=\"1\" class=\"dataframe\">\n",
       "  <thead>\n",
       "    <tr style=\"text-align: right;\">\n",
       "      <th></th>\n",
       "      <th>cosine_similarity</th>\n",
       "      <th>missing_words_reference</th>\n",
       "      <th>missing_words_translation</th>\n",
       "      <th>total_reference_words</th>\n",
       "      <th>total_translation_words</th>\n",
       "    </tr>\n",
       "  </thead>\n",
       "  <tbody>\n",
       "    <tr>\n",
       "      <th>0</th>\n",
       "      <td>0.899663</td>\n",
       "      <td>3.0</td>\n",
       "      <td>6.0</td>\n",
       "      <td>23.0</td>\n",
       "      <td>20.0</td>\n",
       "    </tr>\n",
       "    <tr>\n",
       "      <th>1</th>\n",
       "      <td>0.861433</td>\n",
       "      <td>1.0</td>\n",
       "      <td>4.0</td>\n",
       "      <td>12.0</td>\n",
       "      <td>10.0</td>\n",
       "    </tr>\n",
       "    <tr>\n",
       "      <th>2</th>\n",
       "      <td>0.873431</td>\n",
       "      <td>10.0</td>\n",
       "      <td>5.0</td>\n",
       "      <td>29.0</td>\n",
       "      <td>33.0</td>\n",
       "    </tr>\n",
       "    <tr>\n",
       "      <th>3</th>\n",
       "      <td>0.766672</td>\n",
       "      <td>4.0</td>\n",
       "      <td>2.0</td>\n",
       "      <td>7.0</td>\n",
       "      <td>9.0</td>\n",
       "    </tr>\n",
       "    <tr>\n",
       "      <th>4</th>\n",
       "      <td>0.710794</td>\n",
       "      <td>13.0</td>\n",
       "      <td>10.0</td>\n",
       "      <td>22.0</td>\n",
       "      <td>27.0</td>\n",
       "    </tr>\n",
       "    <tr>\n",
       "      <th>...</th>\n",
       "      <td>...</td>\n",
       "      <td>...</td>\n",
       "      <td>...</td>\n",
       "      <td>...</td>\n",
       "      <td>...</td>\n",
       "    </tr>\n",
       "    <tr>\n",
       "      <th>11580</th>\n",
       "      <td>0.798296</td>\n",
       "      <td>8.0</td>\n",
       "      <td>6.0</td>\n",
       "      <td>21.0</td>\n",
       "      <td>23.0</td>\n",
       "    </tr>\n",
       "    <tr>\n",
       "      <th>11581</th>\n",
       "      <td>0.802461</td>\n",
       "      <td>7.0</td>\n",
       "      <td>7.0</td>\n",
       "      <td>23.0</td>\n",
       "      <td>24.0</td>\n",
       "    </tr>\n",
       "    <tr>\n",
       "      <th>11582</th>\n",
       "      <td>0.912122</td>\n",
       "      <td>3.0</td>\n",
       "      <td>4.0</td>\n",
       "      <td>23.0</td>\n",
       "      <td>22.0</td>\n",
       "    </tr>\n",
       "    <tr>\n",
       "      <th>11583</th>\n",
       "      <td>0.882713</td>\n",
       "      <td>12.0</td>\n",
       "      <td>13.0</td>\n",
       "      <td>45.0</td>\n",
       "      <td>37.0</td>\n",
       "    </tr>\n",
       "    <tr>\n",
       "      <th>11584</th>\n",
       "      <td>0.795171</td>\n",
       "      <td>9.0</td>\n",
       "      <td>11.0</td>\n",
       "      <td>30.0</td>\n",
       "      <td>29.0</td>\n",
       "    </tr>\n",
       "  </tbody>\n",
       "</table>\n",
       "<p>11585 rows × 5 columns</p>\n",
       "</div>"
      ],
      "text/plain": [
       "       cosine_similarity  missing_words_reference  missing_words_translation  \\\n",
       "0               0.899663                      3.0                        6.0   \n",
       "1               0.861433                      1.0                        4.0   \n",
       "2               0.873431                     10.0                        5.0   \n",
       "3               0.766672                      4.0                        2.0   \n",
       "4               0.710794                     13.0                       10.0   \n",
       "...                  ...                      ...                        ...   \n",
       "11580           0.798296                      8.0                        6.0   \n",
       "11581           0.802461                      7.0                        7.0   \n",
       "11582           0.912122                      3.0                        4.0   \n",
       "11583           0.882713                     12.0                       13.0   \n",
       "11584           0.795171                      9.0                       11.0   \n",
       "\n",
       "       total_reference_words  total_translation_words  \n",
       "0                       23.0                     20.0  \n",
       "1                       12.0                     10.0  \n",
       "2                       29.0                     33.0  \n",
       "3                        7.0                      9.0  \n",
       "4                       22.0                     27.0  \n",
       "...                      ...                      ...  \n",
       "11580                   21.0                     23.0  \n",
       "11581                   23.0                     24.0  \n",
       "11582                   23.0                     22.0  \n",
       "11583                   45.0                     37.0  \n",
       "11584                   30.0                     29.0  \n",
       "\n",
       "[11585 rows x 5 columns]"
      ]
     },
     "execution_count": 25,
     "metadata": {},
     "output_type": "execute_result"
    }
   ],
   "source": [
    "df_features"
   ]
  },
  {
   "cell_type": "code",
   "execution_count": 47,
   "metadata": {},
   "outputs": [],
   "source": [
    "df_features['scores']= df['avg-score']"
   ]
  },
  {
   "cell_type": "code",
   "execution_count": 48,
   "metadata": {},
   "outputs": [
    {
     "data": {
      "text/html": [
       "<div>\n",
       "<style scoped>\n",
       "    .dataframe tbody tr th:only-of-type {\n",
       "        vertical-align: middle;\n",
       "    }\n",
       "\n",
       "    .dataframe tbody tr th {\n",
       "        vertical-align: top;\n",
       "    }\n",
       "\n",
       "    .dataframe thead th {\n",
       "        text-align: right;\n",
       "    }\n",
       "</style>\n",
       "<table border=\"1\" class=\"dataframe\">\n",
       "  <thead>\n",
       "    <tr style=\"text-align: right;\">\n",
       "      <th></th>\n",
       "      <th>cosine_similarity</th>\n",
       "      <th>missing_words_reference</th>\n",
       "      <th>missing_words_translation</th>\n",
       "      <th>total_reference_words</th>\n",
       "      <th>total_translation_words</th>\n",
       "      <th>scores</th>\n",
       "      <th>new_scores</th>\n",
       "    </tr>\n",
       "  </thead>\n",
       "  <tbody>\n",
       "    <tr>\n",
       "      <th>0</th>\n",
       "      <td>0.899663</td>\n",
       "      <td>3.0</td>\n",
       "      <td>6.0</td>\n",
       "      <td>23.0</td>\n",
       "      <td>20.0</td>\n",
       "      <td>60.000000</td>\n",
       "      <td>0.368017</td>\n",
       "    </tr>\n",
       "    <tr>\n",
       "      <th>1</th>\n",
       "      <td>0.861433</td>\n",
       "      <td>1.0</td>\n",
       "      <td>4.0</td>\n",
       "      <td>12.0</td>\n",
       "      <td>10.0</td>\n",
       "      <td>44.000000</td>\n",
       "      <td>0.472217</td>\n",
       "    </tr>\n",
       "    <tr>\n",
       "      <th>2</th>\n",
       "      <td>0.873431</td>\n",
       "      <td>10.0</td>\n",
       "      <td>5.0</td>\n",
       "      <td>29.0</td>\n",
       "      <td>33.0</td>\n",
       "      <td>96.500000</td>\n",
       "      <td>0.115152</td>\n",
       "    </tr>\n",
       "    <tr>\n",
       "      <th>3</th>\n",
       "      <td>0.766672</td>\n",
       "      <td>4.0</td>\n",
       "      <td>2.0</td>\n",
       "      <td>7.0</td>\n",
       "      <td>9.0</td>\n",
       "      <td>90.500000</td>\n",
       "      <td>-0.162782</td>\n",
       "    </tr>\n",
       "    <tr>\n",
       "      <th>4</th>\n",
       "      <td>0.710794</td>\n",
       "      <td>13.0</td>\n",
       "      <td>10.0</td>\n",
       "      <td>22.0</td>\n",
       "      <td>27.0</td>\n",
       "      <td>74.666667</td>\n",
       "      <td>-0.491433</td>\n",
       "    </tr>\n",
       "    <tr>\n",
       "      <th>...</th>\n",
       "      <td>...</td>\n",
       "      <td>...</td>\n",
       "      <td>...</td>\n",
       "      <td>...</td>\n",
       "      <td>...</td>\n",
       "      <td>...</td>\n",
       "      <td>...</td>\n",
       "    </tr>\n",
       "    <tr>\n",
       "      <th>11580</th>\n",
       "      <td>0.798296</td>\n",
       "      <td>8.0</td>\n",
       "      <td>6.0</td>\n",
       "      <td>21.0</td>\n",
       "      <td>23.0</td>\n",
       "      <td>56.000000</td>\n",
       "      <td>-0.153036</td>\n",
       "    </tr>\n",
       "    <tr>\n",
       "      <th>11581</th>\n",
       "      <td>0.802461</td>\n",
       "      <td>7.0</td>\n",
       "      <td>7.0</td>\n",
       "      <td>23.0</td>\n",
       "      <td>24.0</td>\n",
       "      <td>69.000000</td>\n",
       "      <td>-0.149654</td>\n",
       "    </tr>\n",
       "    <tr>\n",
       "      <th>11582</th>\n",
       "      <td>0.912122</td>\n",
       "      <td>3.0</td>\n",
       "      <td>4.0</td>\n",
       "      <td>23.0</td>\n",
       "      <td>22.0</td>\n",
       "      <td>32.000000</td>\n",
       "      <td>0.368017</td>\n",
       "    </tr>\n",
       "    <tr>\n",
       "      <th>11583</th>\n",
       "      <td>0.882713</td>\n",
       "      <td>12.0</td>\n",
       "      <td>13.0</td>\n",
       "      <td>45.0</td>\n",
       "      <td>37.0</td>\n",
       "      <td>76.000000</td>\n",
       "      <td>0.135142</td>\n",
       "    </tr>\n",
       "    <tr>\n",
       "      <th>11584</th>\n",
       "      <td>0.795171</td>\n",
       "      <td>9.0</td>\n",
       "      <td>11.0</td>\n",
       "      <td>30.0</td>\n",
       "      <td>29.0</td>\n",
       "      <td>55.000000</td>\n",
       "      <td>-0.153036</td>\n",
       "    </tr>\n",
       "  </tbody>\n",
       "</table>\n",
       "<p>11585 rows × 7 columns</p>\n",
       "</div>"
      ],
      "text/plain": [
       "       cosine_similarity  missing_words_reference  missing_words_translation  \\\n",
       "0               0.899663                      3.0                        6.0   \n",
       "1               0.861433                      1.0                        4.0   \n",
       "2               0.873431                     10.0                        5.0   \n",
       "3               0.766672                      4.0                        2.0   \n",
       "4               0.710794                     13.0                       10.0   \n",
       "...                  ...                      ...                        ...   \n",
       "11580           0.798296                      8.0                        6.0   \n",
       "11581           0.802461                      7.0                        7.0   \n",
       "11582           0.912122                      3.0                        4.0   \n",
       "11583           0.882713                     12.0                       13.0   \n",
       "11584           0.795171                      9.0                       11.0   \n",
       "\n",
       "       total_reference_words  total_translation_words     scores  new_scores  \n",
       "0                       23.0                     20.0  60.000000    0.368017  \n",
       "1                       12.0                     10.0  44.000000    0.472217  \n",
       "2                       29.0                     33.0  96.500000    0.115152  \n",
       "3                        7.0                      9.0  90.500000   -0.162782  \n",
       "4                       22.0                     27.0  74.666667   -0.491433  \n",
       "...                      ...                      ...        ...         ...  \n",
       "11580                   21.0                     23.0  56.000000   -0.153036  \n",
       "11581                   23.0                     24.0  69.000000   -0.149654  \n",
       "11582                   23.0                     22.0  32.000000    0.368017  \n",
       "11583                   45.0                     37.0  76.000000    0.135142  \n",
       "11584                   30.0                     29.0  55.000000   -0.153036  \n",
       "\n",
       "[11585 rows x 7 columns]"
      ]
     },
     "execution_count": 48,
     "metadata": {},
     "output_type": "execute_result"
    }
   ],
   "source": [
    "df_features"
   ]
  },
  {
   "cell_type": "code",
   "execution_count": 49,
   "metadata": {},
   "outputs": [],
   "source": [
    "y = np.array(df_features['scores'])"
   ]
  },
  {
   "cell_type": "code",
   "execution_count": 50,
   "metadata": {},
   "outputs": [
    {
     "data": {
      "text/plain": [
       "array([[ 0.89966259,  3.        ,  6.        , 23.        , 20.        ],\n",
       "       [ 0.86143332,  1.        ,  4.        , 12.        , 10.        ],\n",
       "       [ 0.87343079, 10.        ,  5.        , 29.        , 33.        ],\n",
       "       ...,\n",
       "       [ 0.912122  ,  3.        ,  4.        , 23.        , 22.        ],\n",
       "       [ 0.88271261, 12.        , 13.        , 45.        , 37.        ],\n",
       "       [ 0.79517092,  9.        , 11.        , 30.        , 29.        ]])"
      ]
     },
     "execution_count": 50,
     "metadata": {},
     "output_type": "execute_result"
    }
   ],
   "source": [
    "X = np.array(df_features[['cosine_similarity','missing_words_reference','missing_words_translation','total_reference_words','total_translation_words']])\n",
    "X"
   ]
  },
  {
   "cell_type": "code",
   "execution_count": 51,
   "metadata": {},
   "outputs": [],
   "source": [
    "from sklearn.ensemble import RandomForestRegressor\n",
    "from sklearn.model_selection import train_test_split\n",
    "X_train, X_test, y_train, y_test = train_test_split(\n",
    "   X, y, test_size=0.33, random_state=42)"
   ]
  },
  {
   "cell_type": "code",
   "execution_count": 52,
   "metadata": {},
   "outputs": [
    {
     "data": {
      "text/plain": [
       "RandomForestRegressor(max_depth=2, random_state=0)"
      ]
     },
     "execution_count": 52,
     "metadata": {},
     "output_type": "execute_result"
    }
   ],
   "source": [
    "regr = RandomForestRegressor(max_depth=2, random_state=0)\n",
    "regr.fit(X_train,y_train)"
   ]
  },
  {
   "cell_type": "code",
   "execution_count": 53,
   "metadata": {},
   "outputs": [],
   "source": [
    "y_hat = regr.predict(X)"
   ]
  },
  {
   "cell_type": "code",
   "execution_count": 54,
   "metadata": {},
   "outputs": [
    {
     "data": {
      "text/plain": [
       "cosine_similarity            0.200950\n",
       "missing_words_reference     -0.269609\n",
       "missing_words_translation   -0.188759\n",
       "total_reference_words        0.032222\n",
       "total_translation_words     -0.007268\n",
       "scores                       1.000000\n",
       "new_scores                   0.362974\n",
       "Name: scores, dtype: float64"
      ]
     },
     "execution_count": 54,
     "metadata": {},
     "output_type": "execute_result"
    }
   ],
   "source": [
    "df_features.corr()['scores']"
   ]
  },
  {
   "cell_type": "code",
   "execution_count": 55,
   "metadata": {},
   "outputs": [
    {
     "data": {
      "text/html": [
       "<div>\n",
       "<style scoped>\n",
       "    .dataframe tbody tr th:only-of-type {\n",
       "        vertical-align: middle;\n",
       "    }\n",
       "\n",
       "    .dataframe tbody tr th {\n",
       "        vertical-align: top;\n",
       "    }\n",
       "\n",
       "    .dataframe thead th {\n",
       "        text-align: right;\n",
       "    }\n",
       "</style>\n",
       "<table border=\"1\" class=\"dataframe\">\n",
       "  <thead>\n",
       "    <tr style=\"text-align: right;\">\n",
       "      <th></th>\n",
       "      <th>cosine_similarity</th>\n",
       "      <th>missing_words_reference</th>\n",
       "      <th>missing_words_translation</th>\n",
       "      <th>total_reference_words</th>\n",
       "      <th>total_translation_words</th>\n",
       "      <th>scores</th>\n",
       "      <th>new_scores</th>\n",
       "    </tr>\n",
       "  </thead>\n",
       "  <tbody>\n",
       "    <tr>\n",
       "      <th>0</th>\n",
       "      <td>0.899663</td>\n",
       "      <td>3.0</td>\n",
       "      <td>6.0</td>\n",
       "      <td>23.0</td>\n",
       "      <td>20.0</td>\n",
       "      <td>60.000000</td>\n",
       "      <td>80.120820</td>\n",
       "    </tr>\n",
       "    <tr>\n",
       "      <th>1</th>\n",
       "      <td>0.861433</td>\n",
       "      <td>1.0</td>\n",
       "      <td>4.0</td>\n",
       "      <td>12.0</td>\n",
       "      <td>10.0</td>\n",
       "      <td>44.000000</td>\n",
       "      <td>81.508858</td>\n",
       "    </tr>\n",
       "    <tr>\n",
       "      <th>2</th>\n",
       "      <td>0.873431</td>\n",
       "      <td>10.0</td>\n",
       "      <td>5.0</td>\n",
       "      <td>29.0</td>\n",
       "      <td>33.0</td>\n",
       "      <td>96.500000</td>\n",
       "      <td>73.651352</td>\n",
       "    </tr>\n",
       "    <tr>\n",
       "      <th>3</th>\n",
       "      <td>0.766672</td>\n",
       "      <td>4.0</td>\n",
       "      <td>2.0</td>\n",
       "      <td>7.0</td>\n",
       "      <td>9.0</td>\n",
       "      <td>90.500000</td>\n",
       "      <td>66.167607</td>\n",
       "    </tr>\n",
       "    <tr>\n",
       "      <th>4</th>\n",
       "      <td>0.710794</td>\n",
       "      <td>13.0</td>\n",
       "      <td>10.0</td>\n",
       "      <td>22.0</td>\n",
       "      <td>27.0</td>\n",
       "      <td>74.666667</td>\n",
       "      <td>57.175521</td>\n",
       "    </tr>\n",
       "    <tr>\n",
       "      <th>...</th>\n",
       "      <td>...</td>\n",
       "      <td>...</td>\n",
       "      <td>...</td>\n",
       "      <td>...</td>\n",
       "      <td>...</td>\n",
       "      <td>...</td>\n",
       "      <td>...</td>\n",
       "    </tr>\n",
       "    <tr>\n",
       "      <th>11580</th>\n",
       "      <td>0.798296</td>\n",
       "      <td>8.0</td>\n",
       "      <td>6.0</td>\n",
       "      <td>21.0</td>\n",
       "      <td>23.0</td>\n",
       "      <td>56.000000</td>\n",
       "      <td>66.376162</td>\n",
       "    </tr>\n",
       "    <tr>\n",
       "      <th>11581</th>\n",
       "      <td>0.802461</td>\n",
       "      <td>7.0</td>\n",
       "      <td>7.0</td>\n",
       "      <td>23.0</td>\n",
       "      <td>24.0</td>\n",
       "      <td>69.000000</td>\n",
       "      <td>66.562000</td>\n",
       "    </tr>\n",
       "    <tr>\n",
       "      <th>11582</th>\n",
       "      <td>0.912122</td>\n",
       "      <td>3.0</td>\n",
       "      <td>4.0</td>\n",
       "      <td>23.0</td>\n",
       "      <td>22.0</td>\n",
       "      <td>32.000000</td>\n",
       "      <td>80.120820</td>\n",
       "    </tr>\n",
       "    <tr>\n",
       "      <th>11583</th>\n",
       "      <td>0.882713</td>\n",
       "      <td>12.0</td>\n",
       "      <td>13.0</td>\n",
       "      <td>45.0</td>\n",
       "      <td>37.0</td>\n",
       "      <td>76.000000</td>\n",
       "      <td>73.752958</td>\n",
       "    </tr>\n",
       "    <tr>\n",
       "      <th>11584</th>\n",
       "      <td>0.795171</td>\n",
       "      <td>9.0</td>\n",
       "      <td>11.0</td>\n",
       "      <td>30.0</td>\n",
       "      <td>29.0</td>\n",
       "      <td>55.000000</td>\n",
       "      <td>66.376162</td>\n",
       "    </tr>\n",
       "  </tbody>\n",
       "</table>\n",
       "<p>11585 rows × 7 columns</p>\n",
       "</div>"
      ],
      "text/plain": [
       "       cosine_similarity  missing_words_reference  missing_words_translation  \\\n",
       "0               0.899663                      3.0                        6.0   \n",
       "1               0.861433                      1.0                        4.0   \n",
       "2               0.873431                     10.0                        5.0   \n",
       "3               0.766672                      4.0                        2.0   \n",
       "4               0.710794                     13.0                       10.0   \n",
       "...                  ...                      ...                        ...   \n",
       "11580           0.798296                      8.0                        6.0   \n",
       "11581           0.802461                      7.0                        7.0   \n",
       "11582           0.912122                      3.0                        4.0   \n",
       "11583           0.882713                     12.0                       13.0   \n",
       "11584           0.795171                      9.0                       11.0   \n",
       "\n",
       "       total_reference_words  total_translation_words     scores  new_scores  \n",
       "0                       23.0                     20.0  60.000000   80.120820  \n",
       "1                       12.0                     10.0  44.000000   81.508858  \n",
       "2                       29.0                     33.0  96.500000   73.651352  \n",
       "3                        7.0                      9.0  90.500000   66.167607  \n",
       "4                       22.0                     27.0  74.666667   57.175521  \n",
       "...                      ...                      ...        ...         ...  \n",
       "11580                   21.0                     23.0  56.000000   66.376162  \n",
       "11581                   23.0                     24.0  69.000000   66.562000  \n",
       "11582                   23.0                     22.0  32.000000   80.120820  \n",
       "11583                   45.0                     37.0  76.000000   73.752958  \n",
       "11584                   30.0                     29.0  55.000000   66.376162  \n",
       "\n",
       "[11585 rows x 7 columns]"
      ]
     },
     "execution_count": 55,
     "metadata": {},
     "output_type": "execute_result"
    }
   ],
   "source": [
    "df_features['new_scores'] = y_hat\n",
    "df_features"
   ]
  },
  {
   "cell_type": "code",
   "execution_count": 56,
   "metadata": {},
   "outputs": [
    {
     "data": {
      "text/html": [
       "<div>\n",
       "<style scoped>\n",
       "    .dataframe tbody tr th:only-of-type {\n",
       "        vertical-align: middle;\n",
       "    }\n",
       "\n",
       "    .dataframe tbody tr th {\n",
       "        vertical-align: top;\n",
       "    }\n",
       "\n",
       "    .dataframe thead th {\n",
       "        text-align: right;\n",
       "    }\n",
       "</style>\n",
       "<table border=\"1\" class=\"dataframe\">\n",
       "  <thead>\n",
       "    <tr style=\"text-align: right;\">\n",
       "      <th></th>\n",
       "      <th>scores</th>\n",
       "      <th>new_scores</th>\n",
       "    </tr>\n",
       "  </thead>\n",
       "  <tbody>\n",
       "    <tr>\n",
       "      <th>cosine_similarity</th>\n",
       "      <td>0.200950</td>\n",
       "      <td>0.602951</td>\n",
       "    </tr>\n",
       "    <tr>\n",
       "      <th>missing_words_reference</th>\n",
       "      <td>-0.269609</td>\n",
       "      <td>-0.355520</td>\n",
       "    </tr>\n",
       "    <tr>\n",
       "      <th>missing_words_translation</th>\n",
       "      <td>-0.188759</td>\n",
       "      <td>-0.290205</td>\n",
       "    </tr>\n",
       "    <tr>\n",
       "      <th>total_reference_words</th>\n",
       "      <td>0.032222</td>\n",
       "      <td>0.129801</td>\n",
       "    </tr>\n",
       "    <tr>\n",
       "      <th>total_translation_words</th>\n",
       "      <td>-0.007268</td>\n",
       "      <td>0.101203</td>\n",
       "    </tr>\n",
       "    <tr>\n",
       "      <th>scores</th>\n",
       "      <td>1.000000</td>\n",
       "      <td>0.361286</td>\n",
       "    </tr>\n",
       "    <tr>\n",
       "      <th>new_scores</th>\n",
       "      <td>0.361286</td>\n",
       "      <td>1.000000</td>\n",
       "    </tr>\n",
       "  </tbody>\n",
       "</table>\n",
       "</div>"
      ],
      "text/plain": [
       "                             scores  new_scores\n",
       "cosine_similarity          0.200950    0.602951\n",
       "missing_words_reference   -0.269609   -0.355520\n",
       "missing_words_translation -0.188759   -0.290205\n",
       "total_reference_words      0.032222    0.129801\n",
       "total_translation_words   -0.007268    0.101203\n",
       "scores                     1.000000    0.361286\n",
       "new_scores                 0.361286    1.000000"
      ]
     },
     "execution_count": 56,
     "metadata": {},
     "output_type": "execute_result"
    }
   ],
   "source": [
    "df_features.corr()[['scores','new_scores']]"
   ]
  },
  {
   "cell_type": "code",
   "execution_count": 58,
   "metadata": {},
   "outputs": [
    {
     "name": "stdout",
     "output_type": "stream",
     "text": [
      "Features: addresses, chicago, illinois, media, obama, president, press, speaks\n",
      "[0 0 1 1 1 0 0 1] [1 1 0 0 0 1 1 0]\n"
     ]
    }
   ],
   "source": [
    "from sklearn.feature_extraction.text import TfidfVectorizer, CountVectorizer\n",
    "\n",
    "d1 = \"Obama speaks to the media in Illinois\"\n",
    "d2 = \"The President addresses the press in Chicago\"\n",
    "\n",
    "vect = CountVectorizer(stop_words=\"english\").fit([d1, d2])\n",
    "print(\"Features:\",  \", \".join(vect.get_feature_names()))\n",
    "\n",
    "v_1, v_2 = vect.transform([d1, d2])\n",
    "v_1 = v_1.toarray().ravel()\n",
    "v_2 = v_2.toarray().ravel()\n",
    "print(v_1, v_2)"
   ]
  },
  {
   "cell_type": "code",
   "execution_count": 59,
   "metadata": {},
   "outputs": [
    {
     "name": "stdout",
     "output_type": "stream",
     "text": [
      "[0 0 1 1 1 0 0 1] [1 1 0 0 0 1 1 0]\n"
     ]
    }
   ],
   "source": [
    "v_1, v_2 = vect.transform([d1, d2])\n",
    "v_1 = v_1.toarray().ravel()\n",
    "v_2 = v_2.toarray().ravel()\n",
    "print(v_1, v_2)"
   ]
  },
  {
   "cell_type": "code",
   "execution_count": null,
   "metadata": {},
   "outputs": [],
   "source": []
  }
 ],
 "metadata": {
  "kernelspec": {
   "display_name": "Python 3",
   "language": "python",
   "name": "python3"
  },
  "language_info": {
   "codemirror_mode": {
    "name": "ipython",
    "version": 3
   },
   "file_extension": ".py",
   "mimetype": "text/x-python",
   "name": "python",
   "nbconvert_exporter": "python",
   "pygments_lexer": "ipython3",
   "version": "3.7.6"
  }
 },
 "nbformat": 4,
 "nbformat_minor": 4
}

{
 "cells": [
  {
   "cell_type": "code",
   "execution_count": 14,
   "metadata": {},
   "outputs": [],
   "source": [
    "import pandas as pd\n",
    "import numpy as np\n",
    "import os"
   ]
  },
  {
   "cell_type": "code",
   "execution_count": 15,
   "metadata": {},
   "outputs": [],
   "source": [
    "import tensorflow as tf\n",
    "from tensorflow import keras\n",
    "import scipy.stats as stats"
   ]
  },
  {
   "cell_type": "code",
   "execution_count": 16,
   "metadata": {},
   "outputs": [],
   "source": [
    "import config\n",
    "import helper\n",
    "from feature_extractor import FeatureExtrator"
   ]
  },
  {
   "cell_type": "code",
   "execution_count": 17,
   "metadata": {},
   "outputs": [],
   "source": [
    "model = tf.keras.models.load_model('dnn_model')"
   ]
  },
  {
   "cell_type": "code",
   "execution_count": 18,
   "metadata": {},
   "outputs": [],
   "source": [
    "dir_list = next(os.walk(config.test_set_dir))[1]\n",
    "fe = FeatureExtrator()\n"
   ]
  },
  {
   "cell_type": "code",
   "execution_count": null,
   "metadata": {},
   "outputs": [],
   "source": [
    "fe = FeatureExtrator()\n",
    "for d in dir_list:\n",
    "    csv_path = config.test_set_dir + d + \"\\scores.csv\"\n",
    "    df_source = pd.read_csv(csv_path)\n",
    "    for index, row in df.iterrows():\n",
    "        \n",
    "    language = helper.get_language(d)\n",
    "    helper.update_df(df,helper.clean(df['reference'],False,False,language),'reference')\n",
    "    helper.update_df(df,helper.clean(df['translation'],False,False,language),'translation')\n",
    "    \n",
    "    features = fe.extract(df)\n",
    "    df['avg-score'] = model.predict(features)\n",
    "    df.to_csv(csv_path)"
   ]
  },
  {
   "cell_type": "code",
   "execution_count": null,
   "metadata": {},
   "outputs": [],
   "source": [
    "for d in dir_list:\n",
    "    csv_path = config.test_set_dir + d + \"\\scores.csv\"\n",
    "    df = pd.read_csv(csv_path)    \n",
    "    df['z-score'] = stats.zscore(np.array(df['avg-score']))\n",
    "    df.to_csv(csv_path)"
   ]
  },
  {
   "cell_type": "code",
   "execution_count": null,
   "metadata": {},
   "outputs": [],
   "source": []
  }
 ],
 "metadata": {
  "kernelspec": {
   "display_name": "Python 3",
   "language": "python",
   "name": "python3"
  },
  "language_info": {
   "codemirror_mode": {
    "name": "ipython",
    "version": 3
   },
   "file_extension": ".py",
   "mimetype": "text/x-python",
   "name": "python",
   "nbconvert_exporter": "python",
   "pygments_lexer": "ipython3",
   "version": "3.7.6"
  }
 },
 "nbformat": 4,
 "nbformat_minor": 4
}

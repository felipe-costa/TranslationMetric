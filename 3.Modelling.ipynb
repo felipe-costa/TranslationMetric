{
 "cells": [
  {
   "cell_type": "code",
   "execution_count": 1,
   "metadata": {},
   "outputs": [],
   "source": [
    "#General imports\n",
    "import pandas as pd\n",
    "import numpy as np\n",
    "import math\n",
    "import os"
   ]
  },
  {
   "cell_type": "code",
   "execution_count": 2,
   "metadata": {},
   "outputs": [],
   "source": [
    "#Custom files imports\n",
    "import config"
   ]
  },
  {
   "cell_type": "code",
   "execution_count": 3,
   "metadata": {},
   "outputs": [],
   "source": [
    "from tensorflow import keras\n",
    "import tensorflow as tf\n",
    "from tensorflow.keras import layers\n",
    "from tensorflow.keras.layers.experimental import preprocessing\n",
    "from sklearn.model_selection import train_test_split"
   ]
  },
  {
   "cell_type": "code",
   "execution_count": 4,
   "metadata": {},
   "outputs": [],
   "source": [
    "dir_list = next(os.walk(config.corpus_dir))[1]"
   ]
  },
  {
   "cell_type": "code",
   "execution_count": 7,
   "metadata": {},
   "outputs": [],
   "source": [
    "df_source = pd.DataFrame()\n",
    "for d in dir_list:\n",
    "    csv_path = config.features_data_dir + d + \"\\scores.csv\"\n",
    "    df = pd.read_csv(csv_path)\n",
    "    df['language'] = d\n",
    "    df_source = df_source.append(df)\n",
    "    "
   ]
  },
  {
   "cell_type": "code",
   "execution_count": 8,
   "metadata": {},
   "outputs": [
    {
     "data": {
      "text/html": [
       "<div>\n",
       "<style scoped>\n",
       "    .dataframe tbody tr th:only-of-type {\n",
       "        vertical-align: middle;\n",
       "    }\n",
       "\n",
       "    .dataframe tbody tr th {\n",
       "        vertical-align: top;\n",
       "    }\n",
       "\n",
       "    .dataframe thead th {\n",
       "        text-align: right;\n",
       "    }\n",
       "</style>\n",
       "<table border=\"1\" class=\"dataframe\">\n",
       "  <thead>\n",
       "    <tr style=\"text-align: right;\">\n",
       "      <th></th>\n",
       "      <th>Unnamed: 0</th>\n",
       "      <th>Unnamed: 0.1</th>\n",
       "      <th>source</th>\n",
       "      <th>reference</th>\n",
       "      <th>translation</th>\n",
       "      <th>z-score</th>\n",
       "      <th>avg-score</th>\n",
       "      <th>annotators</th>\n",
       "      <th>similarity</th>\n",
       "      <th>language</th>\n",
       "    </tr>\n",
       "  </thead>\n",
       "  <tbody>\n",
       "    <tr>\n",
       "      <th>0</th>\n",
       "      <td>0</td>\n",
       "      <td>0.0</td>\n",
       "      <td>Uchopíte pak zbraň mezi své předloktí a rameno...</td>\n",
       "      <td>you will then grab the weapon between your for...</td>\n",
       "      <td>you then grasp the gun between your forearm an...</td>\n",
       "      <td>-0.675383</td>\n",
       "      <td>60.000000</td>\n",
       "      <td>3</td>\n",
       "      <td>0.961775</td>\n",
       "      <td>cs-en</td>\n",
       "    </tr>\n",
       "    <tr>\n",
       "      <th>1</th>\n",
       "      <td>1</td>\n",
       "      <td>1.0</td>\n",
       "      <td>Ale je-li New York změna, pak je to také znovu...</td>\n",
       "      <td>but if new york is changed  then it s also a r...</td>\n",
       "      <td>but if new york is change  it is also reinvent...</td>\n",
       "      <td>-0.829403</td>\n",
       "      <td>44.000000</td>\n",
       "      <td>2</td>\n",
       "      <td>0.963354</td>\n",
       "      <td>cs-en</td>\n",
       "    </tr>\n",
       "    <tr>\n",
       "      <th>2</th>\n",
       "      <td>2</td>\n",
       "      <td>2.0</td>\n",
       "      <td>Dlouho a intenzivně jsem během léta přemýšlel,...</td>\n",
       "      <td>i have been thinking over and over again over ...</td>\n",
       "      <td>i have thought long and hard over the course o...</td>\n",
       "      <td>0.803185</td>\n",
       "      <td>96.500000</td>\n",
       "      <td>2</td>\n",
       "      <td>0.848682</td>\n",
       "      <td>cs-en</td>\n",
       "    </tr>\n",
       "    <tr>\n",
       "      <th>3</th>\n",
       "      <td>3</td>\n",
       "      <td>3.0</td>\n",
       "      <td>Najdou si jiný způsob, jak někde podvádět.</td>\n",
       "      <td>they find another way to cheat somewhere</td>\n",
       "      <td>they will find another way how to defraud others</td>\n",
       "      <td>0.563149</td>\n",
       "      <td>90.500000</td>\n",
       "      <td>2</td>\n",
       "      <td>0.860908</td>\n",
       "      <td>cs-en</td>\n",
       "    </tr>\n",
       "    <tr>\n",
       "      <th>4</th>\n",
       "      <td>4</td>\n",
       "      <td>4.0</td>\n",
       "      <td>Zpráva o výměně v čele prezidentovy administra...</td>\n",
       "      <td>the report on the replacement of the president...</td>\n",
       "      <td>the news of the replacement at the top of the ...</td>\n",
       "      <td>0.021549</td>\n",
       "      <td>74.666667</td>\n",
       "      <td>3</td>\n",
       "      <td>0.822409</td>\n",
       "      <td>cs-en</td>\n",
       "    </tr>\n",
       "    <tr>\n",
       "      <th>...</th>\n",
       "      <td>...</td>\n",
       "      <td>...</td>\n",
       "      <td>...</td>\n",
       "      <td>...</td>\n",
       "      <td>...</td>\n",
       "      <td>...</td>\n",
       "      <td>...</td>\n",
       "      <td>...</td>\n",
       "      <td>...</td>\n",
       "      <td>...</td>\n",
       "    </tr>\n",
       "    <tr>\n",
       "      <th>95</th>\n",
       "      <td>95</td>\n",
       "      <td>95.0</td>\n",
       "      <td>作为运动员，张彬彬和家人聚少离多，只有节假日才能回家，平时多靠电话联系。</td>\n",
       "      <td>as an athlete  zhang binbin and his family gat...</td>\n",
       "      <td>as an athlete  zhang binbin and her family are...</td>\n",
       "      <td>0.060832</td>\n",
       "      <td>78.500000</td>\n",
       "      <td>2</td>\n",
       "      <td>0.858316</td>\n",
       "      <td>zh-en</td>\n",
       "    </tr>\n",
       "    <tr>\n",
       "      <th>96</th>\n",
       "      <td>96</td>\n",
       "      <td>96.0</td>\n",
       "      <td>南湖公园水域管理科科长郑建军介绍，南湖水底最深处超过10米，不了解情况下水者，很可能发生危险。</td>\n",
       "      <td>the south lake park water management section  ...</td>\n",
       "      <td>according to zheng jianjun  the management sec...</td>\n",
       "      <td>0.273378</td>\n",
       "      <td>78.500000</td>\n",
       "      <td>2</td>\n",
       "      <td>0.779622</td>\n",
       "      <td>zh-en</td>\n",
       "    </tr>\n",
       "    <tr>\n",
       "      <th>97</th>\n",
       "      <td>97</td>\n",
       "      <td>97.0</td>\n",
       "      <td>工厂的最大股东是一家美铝公司和氧化铝公司的合资公司，而中国的中信集团和日本的丸红株式会社也持...</td>\n",
       "      <td>the biggest shareholder of the factory is a jo...</td>\n",
       "      <td>the plant is majority owned by a joint venture...</td>\n",
       "      <td>-0.622387</td>\n",
       "      <td>58.000000</td>\n",
       "      <td>2</td>\n",
       "      <td>0.923329</td>\n",
       "      <td>zh-en</td>\n",
       "    </tr>\n",
       "    <tr>\n",
       "      <th>98</th>\n",
       "      <td>98</td>\n",
       "      <td>98.0</td>\n",
       "      <td>Banff 的一位居民发现有鱼惊现自家花园，随后发出了求助。</td>\n",
       "      <td>a resident of banff found fish in his garden a...</td>\n",
       "      <td>a banff man has appealed for help in identifyi...</td>\n",
       "      <td>-0.537770</td>\n",
       "      <td>65.500000</td>\n",
       "      <td>2</td>\n",
       "      <td>0.845909</td>\n",
       "      <td>zh-en</td>\n",
       "    </tr>\n",
       "    <tr>\n",
       "      <th>99</th>\n",
       "      <td>99</td>\n",
       "      <td>99.0</td>\n",
       "      <td>能源公司正在面临来自原油价格下降以及英国六月脱欧决定的压力。</td>\n",
       "      <td>energy companies are facing pressure from the ...</td>\n",
       "      <td>energy companies are under pressure from lower...</td>\n",
       "      <td>0.344978</td>\n",
       "      <td>82.000000</td>\n",
       "      <td>2</td>\n",
       "      <td>0.833160</td>\n",
       "      <td>zh-en</td>\n",
       "    </tr>\n",
       "  </tbody>\n",
       "</table>\n",
       "<p>600 rows × 10 columns</p>\n",
       "</div>"
      ],
      "text/plain": [
       "    Unnamed: 0  Unnamed: 0.1  \\\n",
       "0            0           0.0   \n",
       "1            1           1.0   \n",
       "2            2           2.0   \n",
       "3            3           3.0   \n",
       "4            4           4.0   \n",
       "..         ...           ...   \n",
       "95          95          95.0   \n",
       "96          96          96.0   \n",
       "97          97          97.0   \n",
       "98          98          98.0   \n",
       "99          99          99.0   \n",
       "\n",
       "                                               source  \\\n",
       "0   Uchopíte pak zbraň mezi své předloktí a rameno...   \n",
       "1   Ale je-li New York změna, pak je to také znovu...   \n",
       "2   Dlouho a intenzivně jsem během léta přemýšlel,...   \n",
       "3          Najdou si jiný způsob, jak někde podvádět.   \n",
       "4   Zpráva o výměně v čele prezidentovy administra...   \n",
       "..                                                ...   \n",
       "95               作为运动员，张彬彬和家人聚少离多，只有节假日才能回家，平时多靠电话联系。   \n",
       "96    南湖公园水域管理科科长郑建军介绍，南湖水底最深处超过10米，不了解情况下水者，很可能发生危险。   \n",
       "97  工厂的最大股东是一家美铝公司和氧化铝公司的合资公司，而中国的中信集团和日本的丸红株式会社也持...   \n",
       "98                     Banff 的一位居民发现有鱼惊现自家花园，随后发出了求助。   \n",
       "99                     能源公司正在面临来自原油价格下降以及英国六月脱欧决定的压力。   \n",
       "\n",
       "                                            reference  \\\n",
       "0   you will then grab the weapon between your for...   \n",
       "1   but if new york is changed  then it s also a r...   \n",
       "2   i have been thinking over and over again over ...   \n",
       "3           they find another way to cheat somewhere    \n",
       "4   the report on the replacement of the president...   \n",
       "..                                                ...   \n",
       "95  as an athlete  zhang binbin and his family gat...   \n",
       "96  the south lake park water management section  ...   \n",
       "97  the biggest shareholder of the factory is a jo...   \n",
       "98  a resident of banff found fish in his garden a...   \n",
       "99  energy companies are facing pressure from the ...   \n",
       "\n",
       "                                          translation   z-score  avg-score  \\\n",
       "0   you then grasp the gun between your forearm an... -0.675383  60.000000   \n",
       "1   but if new york is change  it is also reinvent... -0.829403  44.000000   \n",
       "2   i have thought long and hard over the course o...  0.803185  96.500000   \n",
       "3   they will find another way how to defraud others   0.563149  90.500000   \n",
       "4   the news of the replacement at the top of the ...  0.021549  74.666667   \n",
       "..                                                ...       ...        ...   \n",
       "95  as an athlete  zhang binbin and her family are...  0.060832  78.500000   \n",
       "96  according to zheng jianjun  the management sec...  0.273378  78.500000   \n",
       "97  the plant is majority owned by a joint venture... -0.622387  58.000000   \n",
       "98  a banff man has appealed for help in identifyi... -0.537770  65.500000   \n",
       "99  energy companies are under pressure from lower...  0.344978  82.000000   \n",
       "\n",
       "    annotators  similarity language  \n",
       "0            3    0.961775    cs-en  \n",
       "1            2    0.963354    cs-en  \n",
       "2            2    0.848682    cs-en  \n",
       "3            2    0.860908    cs-en  \n",
       "4            3    0.822409    cs-en  \n",
       "..         ...         ...      ...  \n",
       "95           2    0.858316    zh-en  \n",
       "96           2    0.779622    zh-en  \n",
       "97           2    0.923329    zh-en  \n",
       "98           2    0.845909    zh-en  \n",
       "99           2    0.833160    zh-en  \n",
       "\n",
       "[600 rows x 10 columns]"
      ]
     },
     "execution_count": 8,
     "metadata": {},
     "output_type": "execute_result"
    }
   ],
   "source": [
    "df_source"
   ]
  },
  {
   "cell_type": "code",
   "execution_count": 9,
   "metadata": {},
   "outputs": [],
   "source": [
    "X = df_source['similarity']\n",
    "y = df_source['avg-score']\n",
    "X_train, X_test, y_train, y_test = train_test_split(\n",
    "    X, y, test_size=0.33, random_state=42)"
   ]
  },
  {
   "cell_type": "code",
   "execution_count": 10,
   "metadata": {},
   "outputs": [],
   "source": [
    "def build_and_compile_model(norm):\n",
    "    model = keras.Sequential([\n",
    "      norm,\n",
    "      layers.Dense(64, activation='relu'),\n",
    "      layers.Dense(64, activation='relu'),\n",
    "      layers.Dense(1)\n",
    "      ])\n",
    "\n",
    "    model.compile(loss='mean_absolute_error',\n",
    "                optimizer=tf.keras.optimizers.Adam(0.001))\n",
    "    return model"
   ]
  },
  {
   "cell_type": "code",
   "execution_count": 12,
   "metadata": {},
   "outputs": [
    {
     "name": "stdout",
     "output_type": "stream",
     "text": [
      "[<tf.Tensor 'Placeholder:0' shape=(None, 1) dtype=float32>]\n"
     ]
    }
   ],
   "source": [
    "normalizer = preprocessing.Normalization()\n",
    "normalizer.adapt(np.array(X_train))\n",
    "linear_model = tf.keras.Sequential([\n",
    "    normalizer,\n",
    "    layers.Dense(units=1)\n",
    "])\n",
    "\n",
    "linear_model.compile(\n",
    "    optimizer=tf.optimizers.Adam(learning_rate=0.1),\n",
    "    loss='mean_absolute_error')"
   ]
  },
  {
   "cell_type": "code",
   "execution_count": 13,
   "metadata": {},
   "outputs": [
    {
     "name": "stdout",
     "output_type": "stream",
     "text": [
      "[<tf.Tensor 'Placeholder:0' shape=(None, 1) dtype=float32>]\n",
      "[<tf.Tensor 'Placeholder:0' shape=(None, 64) dtype=float32>]\n",
      "[<tf.Tensor 'Placeholder:0' shape=(None, 64) dtype=float32>]\n"
     ]
    }
   ],
   "source": [
    "dnn_model = build_and_compile_model(normalizer)"
   ]
  },
  {
   "cell_type": "code",
   "execution_count": 14,
   "metadata": {},
   "outputs": [
    {
     "name": "stdout",
     "output_type": "stream",
     "text": [
      "Model: \"sequential_1\"\n",
      "_________________________________________________________________\n",
      "Layer (type)                 Output Shape              Param #   \n",
      "=================================================================\n",
      "normalization_1 (Normalizati (None, 1)                 3         \n",
      "_________________________________________________________________\n",
      "dense_1 (Dense)              (None, 64)                128       \n",
      "_________________________________________________________________\n",
      "dense_2 (Dense)              (None, 64)                4160      \n",
      "_________________________________________________________________\n",
      "dense_3 (Dense)              (None, 1)                 65        \n",
      "=================================================================\n",
      "Total params: 4,356\n",
      "Trainable params: 4,353\n",
      "Non-trainable params: 3\n",
      "_________________________________________________________________\n"
     ]
    }
   ],
   "source": [
    "dnn_model.summary()"
   ]
  },
  {
   "cell_type": "code",
   "execution_count": 15,
   "metadata": {},
   "outputs": [
    {
     "name": "stdout",
     "output_type": "stream",
     "text": [
      "[<tf.Tensor 'sequential_1/normalization_1/truediv:0' shape=(None, 1) dtype=float32>]\n",
      "[<tf.Tensor 'sequential_1/dense_1/Relu:0' shape=(None, 64) dtype=float32>]\n",
      "[<tf.Tensor 'sequential_1/dense_2/Relu:0' shape=(None, 64) dtype=float32>]\n",
      "[<tf.Tensor 'sequential_1/normalization_1/truediv:0' shape=(None, 1) dtype=float32>]\n",
      "[<tf.Tensor 'sequential_1/dense_1/Relu:0' shape=(None, 64) dtype=float32>]\n",
      "[<tf.Tensor 'sequential_1/dense_2/Relu:0' shape=(None, 64) dtype=float32>]\n",
      "[<tf.Tensor 'sequential_1/normalization_1/truediv:0' shape=(None, 1) dtype=float32>]\n",
      "[<tf.Tensor 'sequential_1/dense_1/Relu:0' shape=(None, 64) dtype=float32>]\n",
      "[<tf.Tensor 'sequential_1/dense_2/Relu:0' shape=(None, 64) dtype=float32>]\n",
      "Wall time: 8.89 s\n"
     ]
    }
   ],
   "source": [
    "%%time\n",
    "history = dnn_model.fit(\n",
    "   X_train, y_train,\n",
    "    validation_split=0.2,\n",
    "    verbose=0, epochs=100)"
   ]
  },
  {
   "cell_type": "code",
   "execution_count": 19,
   "metadata": {},
   "outputs": [
    {
     "name": "stdout",
     "output_type": "stream",
     "text": [
      "7/7 [==============================] - 0s 3ms/step - loss: 19.0496\n"
     ]
    },
    {
     "data": {
      "text/plain": [
       "19.049598693847656"
      ]
     },
     "execution_count": 19,
     "metadata": {},
     "output_type": "execute_result"
    }
   ],
   "source": [
    "dnn_model.evaluate(X_test,y_test)"
   ]
  },
  {
   "cell_type": "code",
   "execution_count": 20,
   "metadata": {},
   "outputs": [
    {
     "name": "stdout",
     "output_type": "stream",
     "text": [
      "[<tf.Tensor 'sequential_1/normalization_1/truediv:0' shape=(None, 1) dtype=float32>]\n",
      "[<tf.Tensor 'sequential_1/dense_1/Relu:0' shape=(None, 64) dtype=float32>]\n",
      "[<tf.Tensor 'sequential_1/dense_2/Relu:0' shape=(None, 64) dtype=float32>]\n",
      "[<tf.Tensor 'normalization_1/truediv:0' shape=(None, 1) dtype=float32>]\n",
      "[<tf.Tensor 'dense_1/StatefulPartitionedCall:0' shape=(None, 64) dtype=float32>]\n",
      "[<tf.Tensor 'dense_2/StatefulPartitionedCall:0' shape=(None, 64) dtype=float32>]\n",
      "[<tf.Tensor 'normalization_1/truediv:0' shape=(None, 1) dtype=float32>]\n",
      "[<tf.Tensor 'dense_1/StatefulPartitionedCall:0' shape=(None, 64) dtype=float32>]\n",
      "[<tf.Tensor 'dense_2/StatefulPartitionedCall:0' shape=(None, 64) dtype=float32>]\n",
      "[<tf.Tensor 'normalization_1/truediv:0' shape=(None, 1) dtype=float32>]\n",
      "[<tf.Tensor 'dense_1/StatefulPartitionedCall:0' shape=(None, 64) dtype=float32>]\n",
      "[<tf.Tensor 'dense_2/StatefulPartitionedCall:0' shape=(None, 64) dtype=float32>]\n",
      "[<tf.Tensor 'normalization_1/truediv:0' shape=(None, 1) dtype=float32>]\n",
      "[<tf.Tensor 'dense_1/StatefulPartitionedCall:0' shape=(None, 64) dtype=float32>]\n",
      "[<tf.Tensor 'dense_2/StatefulPartitionedCall:0' shape=(None, 64) dtype=float32>]\n",
      "[<tf.Tensor 'normalization_1/truediv:0' shape=(None, 1) dtype=float32>]\n",
      "[<tf.Tensor 'dense_1/Relu:0' shape=(None, 64) dtype=float32>]\n",
      "[<tf.Tensor 'dense_2/Relu:0' shape=(None, 64) dtype=float32>]\n",
      "[<tf.Tensor 'normalization_1/truediv:0' shape=(None, 1) dtype=float32>]\n",
      "[<tf.Tensor 'dense_1/Relu:0' shape=(None, 64) dtype=float32>]\n",
      "[<tf.Tensor 'dense_2/Relu:0' shape=(None, 64) dtype=float32>]\n",
      "INFO:tensorflow:Assets written to: dnn_model\\assets\n"
     ]
    }
   ],
   "source": [
    "dnn_model.save(\"dnn_model\")"
   ]
  },
  {
   "cell_type": "code",
   "execution_count": null,
   "metadata": {},
   "outputs": [],
   "source": []
  }
 ],
 "metadata": {
  "kernelspec": {
   "display_name": "Python 3",
   "language": "python",
   "name": "python3"
  },
  "language_info": {
   "codemirror_mode": {
    "name": "ipython",
    "version": 3
   },
   "file_extension": ".py",
   "mimetype": "text/x-python",
   "name": "python",
   "nbconvert_exporter": "python",
   "pygments_lexer": "ipython3",
   "version": "3.7.6"
  }
 },
 "nbformat": 4,
 "nbformat_minor": 4
}

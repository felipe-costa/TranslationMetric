{
 "cells": [
  {
   "cell_type": "code",
   "execution_count": 1,
   "metadata": {},
   "outputs": [],
   "source": [
    "import pandas as pd\n",
    "import os\n",
    "import numpy as np\n",
    "import config\n",
    "import helper"
   ]
  },
  {
   "cell_type": "code",
   "execution_count": 2,
   "metadata": {},
   "outputs": [],
   "source": [
    "dir_list = next(os.walk(config.corpus_dir))[1]"
   ]
  },
  {
   "cell_type": "code",
   "execution_count": 3,
   "metadata": {},
   "outputs": [
    {
     "name": "stderr",
     "output_type": "stream",
     "text": [
      "  0%|                                                                                        | 0/11585 [00:00<?, ?it/s]C:\\Users\\z0045zxy\\OneDrive - NOVAIMS\\2º semester\\Text Minning\\Project\\TranslationMetric\\helper.py:29: UserWarning: No parser was explicitly specified, so I'm using the best available HTML parser for this system (\"lxml\"). This usually isn't a problem, but if you run this code on another system, or in a different virtual environment, it may use a different parser and behave differently.\n",
      "\n",
      "The code that caused this warning is on line 29 of the file C:\\Users\\z0045zxy\\OneDrive - NOVAIMS\\2º semester\\Text Minning\\Project\\TranslationMetric\\helper.py. To get rid of this warning, pass the additional argument 'features=\"lxml\"' to the BeautifulSoup constructor.\n",
      "\n",
      "  text = BeautifulSoup(text).get_text()\n",
      "100%|██████████████████████████████████████████████████████████████████████████| 11585/11585 [00:05<00:00, 2044.41it/s]\n",
      "100%|██████████████████████████████████████████████████████████████████████████| 11585/11585 [00:04<00:00, 2678.31it/s]\n",
      "100%|██████████████████████████████████████████████████████████████████████████| 21704/21704 [00:12<00:00, 1739.04it/s]\n",
      "100%|██████████████████████████████████████████████████████████████████████████| 21704/21704 [00:08<00:00, 2661.85it/s]\n",
      "100%|████████████████████████████████████████████████████████████████████████████| 6748/6748 [00:04<00:00, 1362.03it/s]\n",
      "100%|████████████████████████████████████████████████████████████████████████████| 6748/6748 [00:03<00:00, 2175.95it/s]\n",
      "100%|██████████████████████████████████████████████████████████████████████████| 10221/10221 [00:05<00:00, 1940.91it/s]\n",
      "100%|██████████████████████████████████████████████████████████████████████████| 10221/10221 [00:03<00:00, 3375.26it/s]\n",
      "100%|██████████████████████████████████████████████████████████████████████████| 17980/17980 [00:10<00:00, 1721.41it/s]\n",
      "100%|██████████████████████████████████████████████████████████████████████████| 17980/17980 [00:10<00:00, 1716.50it/s]\n",
      "100%|██████████████████████████████████████████████████████████████████████████| 26419/26419 [00:17<00:00, 1489.92it/s]\n",
      "100%|██████████████████████████████████████████████████████████████████████████| 26419/26419 [00:11<00:00, 2216.25it/s]\n"
     ]
    }
   ],
   "source": [
    "for d in dir_list:\n",
    "    csv_path = config.corpus_dir + d + \"\\scores.csv\"\n",
    "    df = pd.read_csv(csv_path)\n",
    "    \n",
    "    language = helper.get_language(d)\n",
    "    helper.update_df(df,helper.clean(df['reference'],False,False,language),'reference')\n",
    "    helper.update_df(df,helper.clean(df['translation'],False,False,language),'translation')\n",
    "    \n",
    "    helper.create_dir(config.preprocess_data_dir + d)\n",
    "    df.to_csv(config.preprocess_data_dir + d + \"\\\\scores.csv\",index=False )"
   ]
  },
  {
   "cell_type": "code",
   "execution_count": null,
   "metadata": {},
   "outputs": [],
   "source": []
  }
 ],
 "metadata": {
  "kernelspec": {
   "display_name": "Python 3",
   "language": "python",
   "name": "python3"
  },
  "language_info": {
   "codemirror_mode": {
    "name": "ipython",
    "version": 3
   },
   "file_extension": ".py",
   "mimetype": "text/x-python",
   "name": "python",
   "nbconvert_exporter": "python",
   "pygments_lexer": "ipython3",
   "version": "3.7.6"
  }
 },
 "nbformat": 4,
 "nbformat_minor": 4
}

{
 "cells": [
  {
   "cell_type": "code",
   "execution_count": 7,
   "metadata": {},
   "outputs": [],
   "source": [
    "import pandas as pd\n",
    "from sklearn.feature_extraction.text import TfidfVectorizer\n",
    "import numpy as np\n",
    "from sklearn.metrics.pairwise import cosine_similarity"
   ]
  },
  {
   "cell_type": "code",
   "execution_count": 82,
   "metadata": {},
   "outputs": [],
   "source": [
    "class Baseline(object):\n",
    "    \n",
    "    def __init__(self, df,language):\n",
    "        self.language = language\n",
    "        self.df = df\n",
    "        self.scores = []\n",
    "        self.vectorizer = TfidfVectorizer(stop_words=self.language)\n",
    "    \n",
    "    def compute_scores(self):\n",
    "\n",
    "        for i in self.df.index:\n",
    "            \n",
    "            df_i = df[df.index == i]\n",
    "            X = self.vectorizer.fit_transform(df_i.reference).toarray()\n",
    "            X = pd.DataFrame(X,columns=self.vectorizer.vocabulary_)\n",
    "        \n",
    "            Y = self.vectorizer.fit_transform(df_i.translation).toarray()\n",
    "            Y = pd.DataFrame(Y,columns=self.vectorizer.vocabulary_)\n",
    "        \n",
    "\n",
    "            features = list(set(list(X.columns) + list(Y.columns)))\n",
    "        \n",
    "            df_X = pd.DataFrame(columns=features)\n",
    "            df_X[X.columns] = X      \n",
    "\n",
    "        \n",
    "            df_Y = pd.DataFrame(columns=features)\n",
    "            df_Y[Y.columns] = Y\n",
    "        \n",
    "            df_X = df_X.fillna(0)\n",
    "            df_Y = df_Y.fillna(0)\n",
    "\n",
    "            self.scores.append(cosine_similarity(np.array(df_X),np.array(df_Y))[0][0])\n",
    "\n",
    "        df['scores'] = self.scores\n",
    "        return self.scores\n",
    "        \n",
    "\n",
    "    "
   ]
  },
  {
   "cell_type": "code",
   "execution_count": 83,
   "metadata": {},
   "outputs": [],
   "source": [
    "source_dir = \"preprocessed_corpus\\\\\"\n",
    "csv_path = source_dir + \"\\cs-en\\scores.csv\"\n",
    "df = pd.read_csv(csv_path)"
   ]
  },
  {
   "cell_type": "code",
   "execution_count": 84,
   "metadata": {},
   "outputs": [],
   "source": [
    "baseline = Baseline(df,\"english\")"
   ]
  },
  {
   "cell_type": "code",
   "execution_count": 85,
   "metadata": {},
   "outputs": [],
   "source": [
    "scores = baseline.compute_scores()"
   ]
  },
  {
   "cell_type": "code",
   "execution_count": null,
   "metadata": {},
   "outputs": [],
   "source": []
  }
 ],
 "metadata": {
  "kernelspec": {
   "display_name": "Python 3",
   "language": "python",
   "name": "python3"
  },
  "language_info": {
   "codemirror_mode": {
    "name": "ipython",
    "version": 3
   },
   "file_extension": ".py",
   "mimetype": "text/x-python",
   "name": "python",
   "nbconvert_exporter": "python",
   "pygments_lexer": "ipython3",
   "version": "3.7.6"
  }
 },
 "nbformat": 4,
 "nbformat_minor": 4
}
